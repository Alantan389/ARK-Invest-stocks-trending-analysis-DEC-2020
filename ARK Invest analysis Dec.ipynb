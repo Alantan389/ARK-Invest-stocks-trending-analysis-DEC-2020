{
 "cells": [
  {
   "cell_type": "code",
   "execution_count": 42,
   "metadata": {},
   "outputs": [],
   "source": [
    "import pandas as pd\n",
    "import glob\n",
    "path = r'/Users/balance/Desktop/ARK12_10' # use your path\n",
    "all_files = glob.glob(path + \"/*.csv\")\n",
    "li = []\n",
    "for filename in all_files:\n",
    "    df = pd.read_csv(filename, index_col=None, header=0)\n",
    "    li.append(df)\n",
    "df1 = pd.concat(li, axis=0, ignore_index=True)"
   ]
  },
  {
   "cell_type": "code",
   "execution_count": 115,
   "metadata": {},
   "outputs": [
    {
     "data": {
      "text/html": [
       "<div>\n",
       "<style scoped>\n",
       "    .dataframe tbody tr th:only-of-type {\n",
       "        vertical-align: middle;\n",
       "    }\n",
       "\n",
       "    .dataframe tbody tr th {\n",
       "        vertical-align: top;\n",
       "    }\n",
       "\n",
       "    .dataframe thead th {\n",
       "        text-align: right;\n",
       "    }\n",
       "</style>\n",
       "<table border=\"1\" class=\"dataframe\">\n",
       "  <thead>\n",
       "    <tr style=\"text-align: right;\">\n",
       "      <th></th>\n",
       "      <th>date</th>\n",
       "      <th>fund</th>\n",
       "      <th>company</th>\n",
       "      <th>ticker</th>\n",
       "      <th>cusip</th>\n",
       "      <th>shares</th>\n",
       "      <th>market value($)</th>\n",
       "      <th>weight(%)</th>\n",
       "    </tr>\n",
       "  </thead>\n",
       "  <tbody>\n",
       "    <tr>\n",
       "      <th>0</th>\n",
       "      <td>12/9/2020</td>\n",
       "      <td>PRNT</td>\n",
       "      <td>SLM SOLUTIONS GROUP AG</td>\n",
       "      <td>AM3D</td>\n",
       "      <td>BMHTHK2</td>\n",
       "      <td>342895.0</td>\n",
       "      <td>7083409.24</td>\n",
       "      <td>6.89</td>\n",
       "    </tr>\n",
       "    <tr>\n",
       "      <th>1</th>\n",
       "      <td>12/9/2020</td>\n",
       "      <td>PRNT</td>\n",
       "      <td>3D SYSTEMS CORP</td>\n",
       "      <td>DDD</td>\n",
       "      <td>88554D205</td>\n",
       "      <td>664111.0</td>\n",
       "      <td>6880189.96</td>\n",
       "      <td>6.69</td>\n",
       "    </tr>\n",
       "    <tr>\n",
       "      <th>2</th>\n",
       "      <td>12/9/2020</td>\n",
       "      <td>PRNT</td>\n",
       "      <td>HP INC</td>\n",
       "      <td>HPQ</td>\n",
       "      <td>40434L105</td>\n",
       "      <td>228063.0</td>\n",
       "      <td>5288780.97</td>\n",
       "      <td>5.14</td>\n",
       "    </tr>\n",
       "    <tr>\n",
       "      <th>3</th>\n",
       "      <td>12/9/2020</td>\n",
       "      <td>PRNT</td>\n",
       "      <td>STRATASYS LTD</td>\n",
       "      <td>SSYS</td>\n",
       "      <td>M85548101</td>\n",
       "      <td>257143.0</td>\n",
       "      <td>4906288.44</td>\n",
       "      <td>4.77</td>\n",
       "    </tr>\n",
       "    <tr>\n",
       "      <th>4</th>\n",
       "      <td>12/9/2020</td>\n",
       "      <td>PRNT</td>\n",
       "      <td>PTC INC</td>\n",
       "      <td>PTC</td>\n",
       "      <td>69370C100</td>\n",
       "      <td>43571.0</td>\n",
       "      <td>4861216.47</td>\n",
       "      <td>4.73</td>\n",
       "    </tr>\n",
       "  </tbody>\n",
       "</table>\n",
       "</div>"
      ],
      "text/plain": [
       "        date  fund                 company ticker      cusip    shares  \\\n",
       "0  12/9/2020  PRNT  SLM SOLUTIONS GROUP AG   AM3D    BMHTHK2  342895.0   \n",
       "1  12/9/2020  PRNT         3D SYSTEMS CORP    DDD  88554D205  664111.0   \n",
       "2  12/9/2020  PRNT                  HP INC    HPQ  40434L105  228063.0   \n",
       "3  12/9/2020  PRNT           STRATASYS LTD   SSYS  M85548101  257143.0   \n",
       "4  12/9/2020  PRNT                 PTC INC    PTC  69370C100   43571.0   \n",
       "\n",
       "   market value($)  weight(%)  \n",
       "0       7083409.24       6.89  \n",
       "1       6880189.96       6.69  \n",
       "2       5288780.97       5.14  \n",
       "3       4906288.44       4.77  \n",
       "4       4861216.47       4.73  "
      ]
     },
     "execution_count": 115,
     "metadata": {},
     "output_type": "execute_result"
    }
   ],
   "source": [
    "pd.set_option('display.max_rows', None)\n",
    "df1.head()"
   ]
  },
  {
   "cell_type": "code",
   "execution_count": 116,
   "metadata": {},
   "outputs": [
    {
     "data": {
      "text/plain": [
       "(358, 8)"
      ]
     },
     "execution_count": 116,
     "metadata": {},
     "output_type": "execute_result"
    }
   ],
   "source": [
    "## read all etf csv fils in 12/10/2020 (downloand through arkinvest.com)\n",
    "df1.shape"
   ]
  },
  {
   "cell_type": "code",
   "execution_count": 117,
   "metadata": {},
   "outputs": [
    {
     "data": {
      "text/html": [
       "<div>\n",
       "<style scoped>\n",
       "    .dataframe tbody tr th:only-of-type {\n",
       "        vertical-align: middle;\n",
       "    }\n",
       "\n",
       "    .dataframe tbody tr th {\n",
       "        vertical-align: top;\n",
       "    }\n",
       "\n",
       "    .dataframe thead th {\n",
       "        text-align: right;\n",
       "    }\n",
       "</style>\n",
       "<table border=\"1\" class=\"dataframe\">\n",
       "  <thead>\n",
       "    <tr style=\"text-align: right;\">\n",
       "      <th></th>\n",
       "      <th>date</th>\n",
       "      <th>fund</th>\n",
       "      <th>company</th>\n",
       "      <th>ticker</th>\n",
       "      <th>cusip</th>\n",
       "      <th>shares</th>\n",
       "      <th>market value($)</th>\n",
       "      <th>weight_ratio</th>\n",
       "    </tr>\n",
       "  </thead>\n",
       "  <tbody>\n",
       "    <tr>\n",
       "      <th>0</th>\n",
       "      <td>12/9/2020</td>\n",
       "      <td>PRNT</td>\n",
       "      <td>SLM SOLUTIONS GROUP AG</td>\n",
       "      <td>AM3D</td>\n",
       "      <td>BMHTHK2</td>\n",
       "      <td>342895.0</td>\n",
       "      <td>7083409.24</td>\n",
       "      <td>6.89</td>\n",
       "    </tr>\n",
       "    <tr>\n",
       "      <th>1</th>\n",
       "      <td>12/9/2020</td>\n",
       "      <td>PRNT</td>\n",
       "      <td>3D SYSTEMS CORP</td>\n",
       "      <td>DDD</td>\n",
       "      <td>88554D205</td>\n",
       "      <td>664111.0</td>\n",
       "      <td>6880189.96</td>\n",
       "      <td>6.69</td>\n",
       "    </tr>\n",
       "  </tbody>\n",
       "</table>\n",
       "</div>"
      ],
      "text/plain": [
       "        date  fund                 company ticker      cusip    shares  \\\n",
       "0  12/9/2020  PRNT  SLM SOLUTIONS GROUP AG   AM3D    BMHTHK2  342895.0   \n",
       "1  12/9/2020  PRNT         3D SYSTEMS CORP    DDD  88554D205  664111.0   \n",
       "\n",
       "   market value($)  weight_ratio  \n",
       "0       7083409.24          6.89  \n",
       "1       6880189.96          6.69  "
      ]
     },
     "execution_count": 117,
     "metadata": {},
     "output_type": "execute_result"
    }
   ],
   "source": [
    "df1.rename(columns={'weight(%)':'weight_ratio'}).head(2)"
   ]
  },
  {
   "cell_type": "code",
   "execution_count": 118,
   "metadata": {},
   "outputs": [],
   "source": [
    "df11=df1.rename(columns={'weight(%)':'weight_ratio'})"
   ]
  },
  {
   "cell_type": "code",
   "execution_count": 119,
   "metadata": {},
   "outputs": [
    {
     "data": {
      "text/html": [
       "<div>\n",
       "<style scoped>\n",
       "    .dataframe tbody tr th:only-of-type {\n",
       "        vertical-align: middle;\n",
       "    }\n",
       "\n",
       "    .dataframe tbody tr th {\n",
       "        vertical-align: top;\n",
       "    }\n",
       "\n",
       "    .dataframe thead th {\n",
       "        text-align: right;\n",
       "    }\n",
       "</style>\n",
       "<table border=\"1\" class=\"dataframe\">\n",
       "  <thead>\n",
       "    <tr style=\"text-align: right;\">\n",
       "      <th></th>\n",
       "      <th>date</th>\n",
       "      <th>fund</th>\n",
       "      <th>company</th>\n",
       "      <th>ticker</th>\n",
       "      <th>cusip</th>\n",
       "      <th>shares</th>\n",
       "      <th>market value($)</th>\n",
       "      <th>weight_ratio</th>\n",
       "    </tr>\n",
       "  </thead>\n",
       "  <tbody>\n",
       "    <tr>\n",
       "      <th>0</th>\n",
       "      <td>12/9/2020</td>\n",
       "      <td>PRNT</td>\n",
       "      <td>SLM SOLUTIONS GROUP AG</td>\n",
       "      <td>AM3D</td>\n",
       "      <td>BMHTHK2</td>\n",
       "      <td>342895.0</td>\n",
       "      <td>7083409.24</td>\n",
       "      <td>6.89</td>\n",
       "    </tr>\n",
       "  </tbody>\n",
       "</table>\n",
       "</div>"
      ],
      "text/plain": [
       "        date  fund                 company ticker    cusip    shares  \\\n",
       "0  12/9/2020  PRNT  SLM SOLUTIONS GROUP AG   AM3D  BMHTHK2  342895.0   \n",
       "\n",
       "   market value($)  weight_ratio  \n",
       "0       7083409.24          6.89  "
      ]
     },
     "execution_count": 119,
     "metadata": {},
     "output_type": "execute_result"
    }
   ],
   "source": [
    "df11.head(1)"
   ]
  },
  {
   "cell_type": "code",
   "execution_count": 120,
   "metadata": {},
   "outputs": [
    {
     "data": {
      "text/plain": [
       "count    337.000000\n",
       "mean       2.076944\n",
       "std        1.787593\n",
       "min        0.010000\n",
       "25%        0.960000\n",
       "50%        1.690000\n",
       "75%        2.730000\n",
       "max       11.680000\n",
       "Name: weight_ratio, dtype: float64"
      ]
     },
     "execution_count": 120,
     "metadata": {},
     "output_type": "execute_result"
    }
   ],
   "source": [
    "df11.weight_ratio.describe()"
   ]
  },
  {
   "cell_type": "code",
   "execution_count": 121,
   "metadata": {},
   "outputs": [
    {
     "data": {
      "text/html": [
       "<div>\n",
       "<style scoped>\n",
       "    .dataframe tbody tr th:only-of-type {\n",
       "        vertical-align: middle;\n",
       "    }\n",
       "\n",
       "    .dataframe tbody tr th {\n",
       "        vertical-align: top;\n",
       "    }\n",
       "\n",
       "    .dataframe thead th {\n",
       "        text-align: right;\n",
       "    }\n",
       "</style>\n",
       "<table border=\"1\" class=\"dataframe\">\n",
       "  <thead>\n",
       "    <tr style=\"text-align: right;\">\n",
       "      <th></th>\n",
       "      <th>date</th>\n",
       "      <th>fund</th>\n",
       "      <th>company</th>\n",
       "      <th>ticker</th>\n",
       "      <th>cusip</th>\n",
       "      <th>shares</th>\n",
       "      <th>market value($)</th>\n",
       "      <th>weight_ratio</th>\n",
       "    </tr>\n",
       "  </thead>\n",
       "  <tbody>\n",
       "    <tr>\n",
       "      <th>101</th>\n",
       "      <td>12/9/2020</td>\n",
       "      <td>ARKK</td>\n",
       "      <td>TESLA INC</td>\n",
       "      <td>TSLA</td>\n",
       "      <td>88160R101</td>\n",
       "      <td>2503355.0</td>\n",
       "      <td>1.513228e+09</td>\n",
       "      <td>10.09</td>\n",
       "    </tr>\n",
       "    <tr>\n",
       "      <th>152</th>\n",
       "      <td>12/9/2020</td>\n",
       "      <td>ARKW</td>\n",
       "      <td>TESLA INC</td>\n",
       "      <td>TSLA</td>\n",
       "      <td>88160R101</td>\n",
       "      <td>754060.0</td>\n",
       "      <td>4.558142e+08</td>\n",
       "      <td>9.85</td>\n",
       "    </tr>\n",
       "    <tr>\n",
       "      <th>258</th>\n",
       "      <td>12/9/2020</td>\n",
       "      <td>ARKQ</td>\n",
       "      <td>TESLA INC</td>\n",
       "      <td>TSLA</td>\n",
       "      <td>88160R101</td>\n",
       "      <td>244536.0</td>\n",
       "      <td>1.478171e+08</td>\n",
       "      <td>11.68</td>\n",
       "    </tr>\n",
       "  </tbody>\n",
       "</table>\n",
       "</div>"
      ],
      "text/plain": [
       "          date  fund    company ticker      cusip     shares  market value($)  \\\n",
       "101  12/9/2020  ARKK  TESLA INC   TSLA  88160R101  2503355.0     1.513228e+09   \n",
       "152  12/9/2020  ARKW  TESLA INC   TSLA  88160R101   754060.0     4.558142e+08   \n",
       "258  12/9/2020  ARKQ  TESLA INC   TSLA  88160R101   244536.0     1.478171e+08   \n",
       "\n",
       "     weight_ratio  \n",
       "101         10.09  \n",
       "152          9.85  \n",
       "258         11.68  "
      ]
     },
     "execution_count": 121,
     "metadata": {},
     "output_type": "execute_result"
    }
   ],
   "source": [
    "## HOW many ETF holding TSLA in 12/09/2020, there are 3.\n",
    "df11.query('ticker==\"TSLA\"')"
   ]
  },
  {
   "cell_type": "code",
   "execution_count": 122,
   "metadata": {},
   "outputs": [
    {
     "data": {
      "text/plain": [
       "TESLA INC                       3\n",
       "CRISPR THERAPEUTICS AG          2\n",
       "INVITAE CORP                    2\n",
       "ROKU INC                        2\n",
       "ARCTURUS THERAPEUTICS HOLDIN    1\n",
       "SQUARE INC - A                  1\n",
       "TWIST BIOSCIENCE CORP           1\n",
       "MATERIALISE NV-ADR              1\n",
       "PACIFIC BIOSCIENCES OF CALIF    1\n",
       "SLM SOLUTIONS GROUP AG          1\n",
       "3D SYSTEMS CORP                 1\n",
       "Name: company, dtype: int64"
      ]
     },
     "execution_count": 122,
     "metadata": {},
     "output_type": "execute_result"
    }
   ],
   "source": [
    "## counts for those stock weight more or equrl 6% on 12/09 in all ETF \n",
    "df11.loc[(df11['weight_ratio'] >= 6)].company.value_counts()"
   ]
  },
  {
   "cell_type": "code",
   "execution_count": 123,
   "metadata": {},
   "outputs": [
    {
     "data": {
      "text/plain": [
       "SQ      3\n",
       "TDOC    3\n",
       "PRLB    3\n",
       "TSLA    3\n",
       "NVTA    2\n",
       "ROKU    2\n",
       "TRMB    2\n",
       "MTLS    2\n",
       "CRSP    2\n",
       "SPOT    2\n",
       "Name: ticker, dtype: int64"
      ]
     },
     "execution_count": 123,
     "metadata": {},
     "output_type": "execute_result"
    }
   ],
   "source": [
    "df11.loc[(df11['weight_ratio'] >= 3)].ticker.value_counts()[:10]"
   ]
  },
  {
   "cell_type": "code",
   "execution_count": null,
   "metadata": {},
   "outputs": [],
   "source": []
  },
  {
   "cell_type": "code",
   "execution_count": null,
   "metadata": {},
   "outputs": [],
   "source": []
  },
  {
   "cell_type": "code",
   "execution_count": 124,
   "metadata": {},
   "outputs": [],
   "source": [
    "\n",
    "path = r'/Users/balance/Desktop/ARK11_10' # use your path\n",
    "all_files = glob.glob(path + \"/*.csv\")\n",
    "li = []\n",
    "for filename in all_files:\n",
    "    df = pd.read_csv(filename, index_col=None, header=0)\n",
    "    li.append(df)\n",
    "df_nov = pd.concat(li, axis=0, ignore_index=True)"
   ]
  },
  {
   "cell_type": "code",
   "execution_count": 125,
   "metadata": {},
   "outputs": [
    {
     "data": {
      "text/html": [
       "<div>\n",
       "<style scoped>\n",
       "    .dataframe tbody tr th:only-of-type {\n",
       "        vertical-align: middle;\n",
       "    }\n",
       "\n",
       "    .dataframe tbody tr th {\n",
       "        vertical-align: top;\n",
       "    }\n",
       "\n",
       "    .dataframe thead th {\n",
       "        text-align: right;\n",
       "    }\n",
       "</style>\n",
       "<table border=\"1\" class=\"dataframe\">\n",
       "  <thead>\n",
       "    <tr style=\"text-align: right;\">\n",
       "      <th></th>\n",
       "      <th>date</th>\n",
       "      <th>fund</th>\n",
       "      <th>company</th>\n",
       "      <th>ticker</th>\n",
       "      <th>cusip</th>\n",
       "      <th>shares</th>\n",
       "      <th>market value($)</th>\n",
       "      <th>weight(%)</th>\n",
       "    </tr>\n",
       "  </thead>\n",
       "  <tbody>\n",
       "    <tr>\n",
       "      <th>0</th>\n",
       "      <td>11/16/2020</td>\n",
       "      <td>PRNT</td>\n",
       "      <td>SLM SOLUTIONS GROUP AG</td>\n",
       "      <td>AM3D</td>\n",
       "      <td>BMHTHK2</td>\n",
       "      <td>281719.0</td>\n",
       "      <td>4767768.04</td>\n",
       "      <td>6.30</td>\n",
       "    </tr>\n",
       "    <tr>\n",
       "      <th>1</th>\n",
       "      <td>11/16/2020</td>\n",
       "      <td>PRNT</td>\n",
       "      <td>STRAUMANN HOLDING AG-REG</td>\n",
       "      <td>STMN</td>\n",
       "      <td>7156832</td>\n",
       "      <td>3431.0</td>\n",
       "      <td>4068542.93</td>\n",
       "      <td>5.37</td>\n",
       "    </tr>\n",
       "    <tr>\n",
       "      <th>2</th>\n",
       "      <td>11/16/2020</td>\n",
       "      <td>PRNT</td>\n",
       "      <td>3D SYSTEMS CORP</td>\n",
       "      <td>DDD</td>\n",
       "      <td>88554D205</td>\n",
       "      <td>547875.0</td>\n",
       "      <td>3895391.25</td>\n",
       "      <td>5.15</td>\n",
       "    </tr>\n",
       "    <tr>\n",
       "      <th>3</th>\n",
       "      <td>11/16/2020</td>\n",
       "      <td>PRNT</td>\n",
       "      <td>HP INC</td>\n",
       "      <td>HPQ</td>\n",
       "      <td>40434L105</td>\n",
       "      <td>187880.0</td>\n",
       "      <td>3813964.00</td>\n",
       "      <td>5.04</td>\n",
       "    </tr>\n",
       "    <tr>\n",
       "      <th>4</th>\n",
       "      <td>11/16/2020</td>\n",
       "      <td>PRNT</td>\n",
       "      <td>MGI DIGITAL GRAPHIC TECHNOLO</td>\n",
       "      <td>ALMDG</td>\n",
       "      <td>B18FJV7</td>\n",
       "      <td>66525.0</td>\n",
       "      <td>3618831.33</td>\n",
       "      <td>4.78</td>\n",
       "    </tr>\n",
       "  </tbody>\n",
       "</table>\n",
       "</div>"
      ],
      "text/plain": [
       "         date  fund                       company ticker      cusip    shares  \\\n",
       "0  11/16/2020  PRNT        SLM SOLUTIONS GROUP AG   AM3D    BMHTHK2  281719.0   \n",
       "1  11/16/2020  PRNT      STRAUMANN HOLDING AG-REG   STMN    7156832    3431.0   \n",
       "2  11/16/2020  PRNT               3D SYSTEMS CORP    DDD  88554D205  547875.0   \n",
       "3  11/16/2020  PRNT                        HP INC    HPQ  40434L105  187880.0   \n",
       "4  11/16/2020  PRNT  MGI DIGITAL GRAPHIC TECHNOLO  ALMDG    B18FJV7   66525.0   \n",
       "\n",
       "   market value($)  weight(%)  \n",
       "0       4767768.04       6.30  \n",
       "1       4068542.93       5.37  \n",
       "2       3895391.25       5.15  \n",
       "3       3813964.00       5.04  \n",
       "4       3618831.33       4.78  "
      ]
     },
     "execution_count": 125,
     "metadata": {},
     "output_type": "execute_result"
    }
   ],
   "source": [
    "df_nov.head(5)"
   ]
  },
  {
   "cell_type": "code",
   "execution_count": null,
   "metadata": {},
   "outputs": [],
   "source": []
  },
  {
   "cell_type": "code",
   "execution_count": 126,
   "metadata": {},
   "outputs": [],
   "source": [
    "df1_nov=df_nov.rename(columns={'weight(%)':'weight_ratio'})"
   ]
  },
  {
   "cell_type": "code",
   "execution_count": 127,
   "metadata": {},
   "outputs": [
    {
     "data": {
      "text/html": [
       "<div>\n",
       "<style scoped>\n",
       "    .dataframe tbody tr th:only-of-type {\n",
       "        vertical-align: middle;\n",
       "    }\n",
       "\n",
       "    .dataframe tbody tr th {\n",
       "        vertical-align: top;\n",
       "    }\n",
       "\n",
       "    .dataframe thead th {\n",
       "        text-align: right;\n",
       "    }\n",
       "</style>\n",
       "<table border=\"1\" class=\"dataframe\">\n",
       "  <thead>\n",
       "    <tr style=\"text-align: right;\">\n",
       "      <th></th>\n",
       "      <th>date</th>\n",
       "      <th>fund</th>\n",
       "      <th>company</th>\n",
       "      <th>ticker</th>\n",
       "      <th>cusip</th>\n",
       "      <th>shares</th>\n",
       "      <th>market value($)</th>\n",
       "      <th>weight_ratio</th>\n",
       "    </tr>\n",
       "  </thead>\n",
       "  <tbody>\n",
       "    <tr>\n",
       "      <th>0</th>\n",
       "      <td>11/16/2020</td>\n",
       "      <td>PRNT</td>\n",
       "      <td>SLM SOLUTIONS GROUP AG</td>\n",
       "      <td>AM3D</td>\n",
       "      <td>BMHTHK2</td>\n",
       "      <td>281719.0</td>\n",
       "      <td>4767768.04</td>\n",
       "      <td>6.3</td>\n",
       "    </tr>\n",
       "  </tbody>\n",
       "</table>\n",
       "</div>"
      ],
      "text/plain": [
       "         date  fund                 company ticker    cusip    shares  \\\n",
       "0  11/16/2020  PRNT  SLM SOLUTIONS GROUP AG   AM3D  BMHTHK2  281719.0   \n",
       "\n",
       "   market value($)  weight_ratio  \n",
       "0       4767768.04           6.3  "
      ]
     },
     "execution_count": 127,
     "metadata": {},
     "output_type": "execute_result"
    }
   ],
   "source": [
    "df1_nov.head(1)"
   ]
  },
  {
   "cell_type": "code",
   "execution_count": null,
   "metadata": {},
   "outputs": [],
   "source": []
  },
  {
   "cell_type": "code",
   "execution_count": 128,
   "metadata": {},
   "outputs": [],
   "source": [
    "path = r'/Users/balance/Desktop/ARK_10' # use your path\n",
    "all_files = glob.glob(path + \"/*.csv\")\n",
    "li = []\n",
    "for filename in all_files:\n",
    "    df = pd.read_csv(filename, index_col=None, header=0)\n",
    "    li.append(df)\n",
    "df_oct = pd.concat(li, axis=0, ignore_index=True)"
   ]
  },
  {
   "cell_type": "code",
   "execution_count": 129,
   "metadata": {},
   "outputs": [
    {
     "data": {
      "text/plain": [
       "(240, 8)"
      ]
     },
     "execution_count": 129,
     "metadata": {},
     "output_type": "execute_result"
    }
   ],
   "source": [
    "df_oct.shape"
   ]
  },
  {
   "cell_type": "code",
   "execution_count": 130,
   "metadata": {},
   "outputs": [],
   "source": [
    "df1_oct=df_oct.rename(columns={'weight(%)':'weight_ratio'})"
   ]
  },
  {
   "cell_type": "code",
   "execution_count": 131,
   "metadata": {},
   "outputs": [
    {
     "data": {
      "text/html": [
       "<div>\n",
       "<style scoped>\n",
       "    .dataframe tbody tr th:only-of-type {\n",
       "        vertical-align: middle;\n",
       "    }\n",
       "\n",
       "    .dataframe tbody tr th {\n",
       "        vertical-align: top;\n",
       "    }\n",
       "\n",
       "    .dataframe thead th {\n",
       "        text-align: right;\n",
       "    }\n",
       "</style>\n",
       "<table border=\"1\" class=\"dataframe\">\n",
       "  <thead>\n",
       "    <tr style=\"text-align: right;\">\n",
       "      <th></th>\n",
       "      <th>date</th>\n",
       "      <th>fund</th>\n",
       "      <th>company</th>\n",
       "      <th>ticker</th>\n",
       "      <th>cusip</th>\n",
       "      <th>shares</th>\n",
       "      <th>market value($)</th>\n",
       "      <th>weight_ratio</th>\n",
       "    </tr>\n",
       "  </thead>\n",
       "  <tbody>\n",
       "    <tr>\n",
       "      <th>0</th>\n",
       "      <td>10/9/2020</td>\n",
       "      <td>ARKK</td>\n",
       "      <td>TESLA INC</td>\n",
       "      <td>TSLA</td>\n",
       "      <td>88160R101</td>\n",
       "      <td>2335461.0</td>\n",
       "      <td>1.013590e+09</td>\n",
       "      <td>10.03</td>\n",
       "    </tr>\n",
       "  </tbody>\n",
       "</table>\n",
       "</div>"
      ],
      "text/plain": [
       "        date  fund    company ticker      cusip     shares  market value($)  \\\n",
       "0  10/9/2020  ARKK  TESLA INC   TSLA  88160R101  2335461.0     1.013590e+09   \n",
       "\n",
       "   weight_ratio  \n",
       "0         10.03  "
      ]
     },
     "execution_count": 131,
     "metadata": {},
     "output_type": "execute_result"
    }
   ],
   "source": [
    "df1_oct.head(1)"
   ]
  },
  {
   "cell_type": "code",
   "execution_count": null,
   "metadata": {},
   "outputs": [],
   "source": []
  },
  {
   "cell_type": "code",
   "execution_count": 132,
   "metadata": {},
   "outputs": [],
   "source": [
    "\n",
    "path = r'/Users/balance/Desktop/ARK_09' # use your path\n",
    "all_files = glob.glob(path + \"/*.csv\")\n",
    "li = []\n",
    "for filename in all_files:\n",
    "    df = pd.read_csv(filename, index_col=None, header=0)\n",
    "    li.append(df)\n",
    "df_sep = pd.concat(li, axis=0, ignore_index=True)"
   ]
  },
  {
   "cell_type": "code",
   "execution_count": 133,
   "metadata": {},
   "outputs": [
    {
     "data": {
      "text/plain": [
       "(236, 8)"
      ]
     },
     "execution_count": 133,
     "metadata": {},
     "output_type": "execute_result"
    }
   ],
   "source": [
    "df_sep.shape"
   ]
  },
  {
   "cell_type": "code",
   "execution_count": 134,
   "metadata": {},
   "outputs": [],
   "source": [
    "df1_sep=df_sep.rename(columns={'weight(%)':'weight_ratio'})"
   ]
  },
  {
   "cell_type": "code",
   "execution_count": 135,
   "metadata": {},
   "outputs": [
    {
     "data": {
      "text/html": [
       "<div>\n",
       "<style scoped>\n",
       "    .dataframe tbody tr th:only-of-type {\n",
       "        vertical-align: middle;\n",
       "    }\n",
       "\n",
       "    .dataframe tbody tr th {\n",
       "        vertical-align: top;\n",
       "    }\n",
       "\n",
       "    .dataframe thead th {\n",
       "        text-align: right;\n",
       "    }\n",
       "</style>\n",
       "<table border=\"1\" class=\"dataframe\">\n",
       "  <thead>\n",
       "    <tr style=\"text-align: right;\">\n",
       "      <th></th>\n",
       "      <th>date</th>\n",
       "      <th>fund</th>\n",
       "      <th>company</th>\n",
       "      <th>ticker</th>\n",
       "      <th>cusip</th>\n",
       "      <th>shares</th>\n",
       "      <th>market value($)</th>\n",
       "      <th>weight_ratio</th>\n",
       "    </tr>\n",
       "  </thead>\n",
       "  <tbody>\n",
       "    <tr>\n",
       "      <th>0</th>\n",
       "      <td>9/18/2020</td>\n",
       "      <td>ARKK</td>\n",
       "      <td>TESLA INC</td>\n",
       "      <td>TSLA</td>\n",
       "      <td>88160R101</td>\n",
       "      <td>2033445.0</td>\n",
       "      <td>8.990877e+08</td>\n",
       "      <td>10.65</td>\n",
       "    </tr>\n",
       "  </tbody>\n",
       "</table>\n",
       "</div>"
      ],
      "text/plain": [
       "        date  fund    company ticker      cusip     shares  market value($)  \\\n",
       "0  9/18/2020  ARKK  TESLA INC   TSLA  88160R101  2033445.0     8.990877e+08   \n",
       "\n",
       "   weight_ratio  \n",
       "0         10.65  "
      ]
     },
     "execution_count": 135,
     "metadata": {},
     "output_type": "execute_result"
    }
   ],
   "source": [
    "df1_sep.head(1)"
   ]
  },
  {
   "cell_type": "code",
   "execution_count": null,
   "metadata": {},
   "outputs": [],
   "source": []
  },
  {
   "cell_type": "code",
   "execution_count": null,
   "metadata": {},
   "outputs": [],
   "source": []
  },
  {
   "cell_type": "code",
   "execution_count": 136,
   "metadata": {},
   "outputs": [],
   "source": [
    "append1=df11.append([df1_nov,df1_oct,df1_sep])"
   ]
  },
  {
   "cell_type": "code",
   "execution_count": 137,
   "metadata": {},
   "outputs": [
    {
     "data": {
      "text/plain": [
       "(1180, 8)"
      ]
     },
     "execution_count": 137,
     "metadata": {},
     "output_type": "execute_result"
    }
   ],
   "source": [
    "append1.shape"
   ]
  },
  {
   "cell_type": "code",
   "execution_count": null,
   "metadata": {},
   "outputs": [],
   "source": []
  },
  {
   "cell_type": "code",
   "execution_count": 138,
   "metadata": {},
   "outputs": [],
   "source": [
    "import matplotlib.pyplot as plt\n",
    "import seaborn as sb\n",
    "\n",
    "%matplotlib inline"
   ]
  },
  {
   "cell_type": "code",
   "execution_count": null,
   "metadata": {},
   "outputs": [],
   "source": []
  },
  {
   "cell_type": "code",
   "execution_count": 139,
   "metadata": {},
   "outputs": [
    {
     "data": {
      "text/html": [
       "<div>\n",
       "<style scoped>\n",
       "    .dataframe tbody tr th:only-of-type {\n",
       "        vertical-align: middle;\n",
       "    }\n",
       "\n",
       "    .dataframe tbody tr th {\n",
       "        vertical-align: top;\n",
       "    }\n",
       "\n",
       "    .dataframe thead th {\n",
       "        text-align: right;\n",
       "    }\n",
       "</style>\n",
       "<table border=\"1\" class=\"dataframe\">\n",
       "  <thead>\n",
       "    <tr style=\"text-align: right;\">\n",
       "      <th></th>\n",
       "      <th>date</th>\n",
       "      <th>fund</th>\n",
       "      <th>company</th>\n",
       "      <th>ticker</th>\n",
       "      <th>cusip</th>\n",
       "      <th>shares</th>\n",
       "      <th>market value($)</th>\n",
       "      <th>weight_ratio</th>\n",
       "    </tr>\n",
       "  </thead>\n",
       "  <tbody>\n",
       "    <tr>\n",
       "      <th>0</th>\n",
       "      <td>12/9/2020</td>\n",
       "      <td>PRNT</td>\n",
       "      <td>SLM SOLUTIONS GROUP AG</td>\n",
       "      <td>AM3D</td>\n",
       "      <td>BMHTHK2</td>\n",
       "      <td>342895.0</td>\n",
       "      <td>7083409.24</td>\n",
       "      <td>6.89</td>\n",
       "    </tr>\n",
       "    <tr>\n",
       "      <th>1</th>\n",
       "      <td>12/9/2020</td>\n",
       "      <td>PRNT</td>\n",
       "      <td>3D SYSTEMS CORP</td>\n",
       "      <td>DDD</td>\n",
       "      <td>88554D205</td>\n",
       "      <td>664111.0</td>\n",
       "      <td>6880189.96</td>\n",
       "      <td>6.69</td>\n",
       "    </tr>\n",
       "  </tbody>\n",
       "</table>\n",
       "</div>"
      ],
      "text/plain": [
       "        date  fund                 company ticker      cusip    shares  \\\n",
       "0  12/9/2020  PRNT  SLM SOLUTIONS GROUP AG   AM3D    BMHTHK2  342895.0   \n",
       "1  12/9/2020  PRNT         3D SYSTEMS CORP    DDD  88554D205  664111.0   \n",
       "\n",
       "   market value($)  weight_ratio  \n",
       "0       7083409.24          6.89  \n",
       "1       6880189.96          6.69  "
      ]
     },
     "execution_count": 139,
     "metadata": {},
     "output_type": "execute_result"
    }
   ],
   "source": [
    "append1.head(2)"
   ]
  },
  {
   "cell_type": "code",
   "execution_count": 140,
   "metadata": {},
   "outputs": [],
   "source": [
    "SPCE=append1.query('ticker==\"SPCE\"')"
   ]
  },
  {
   "cell_type": "code",
   "execution_count": 141,
   "metadata": {},
   "outputs": [
    {
     "data": {
      "text/html": [
       "<div>\n",
       "<style scoped>\n",
       "    .dataframe tbody tr th:only-of-type {\n",
       "        vertical-align: middle;\n",
       "    }\n",
       "\n",
       "    .dataframe tbody tr th {\n",
       "        vertical-align: top;\n",
       "    }\n",
       "\n",
       "    .dataframe thead th {\n",
       "        text-align: right;\n",
       "    }\n",
       "</style>\n",
       "<table border=\"1\" class=\"dataframe\">\n",
       "  <thead>\n",
       "    <tr style=\"text-align: right;\">\n",
       "      <th></th>\n",
       "      <th>date</th>\n",
       "      <th>fund</th>\n",
       "      <th>company</th>\n",
       "      <th>ticker</th>\n",
       "      <th>cusip</th>\n",
       "      <th>shares</th>\n",
       "      <th>market value($)</th>\n",
       "      <th>weight_ratio</th>\n",
       "    </tr>\n",
       "  </thead>\n",
       "  <tbody>\n",
       "    <tr>\n",
       "      <th>272</th>\n",
       "      <td>12/9/2020</td>\n",
       "      <td>ARKQ</td>\n",
       "      <td>VIRGIN GALACTIC HOLDINGS INC</td>\n",
       "      <td>SPCE</td>\n",
       "      <td>92766K106</td>\n",
       "      <td>1077191.0</td>\n",
       "      <td>34610146.83</td>\n",
       "      <td>2.73</td>\n",
       "    </tr>\n",
       "    <tr>\n",
       "      <th>274</th>\n",
       "      <td>11/16/2020</td>\n",
       "      <td>ARKQ</td>\n",
       "      <td>VIRGIN GALACTIC HOLDINGS INC</td>\n",
       "      <td>SPCE</td>\n",
       "      <td>92766K106</td>\n",
       "      <td>877129.0</td>\n",
       "      <td>18323224.81</td>\n",
       "      <td>2.02</td>\n",
       "    </tr>\n",
       "    <tr>\n",
       "      <th>173</th>\n",
       "      <td>10/9/2020</td>\n",
       "      <td>ARKQ</td>\n",
       "      <td>VIRGIN GALACTIC HOLDINGS INC</td>\n",
       "      <td>SPCE</td>\n",
       "      <td>92766K106</td>\n",
       "      <td>528269.0</td>\n",
       "      <td>11304956.60</td>\n",
       "      <td>1.57</td>\n",
       "    </tr>\n",
       "    <tr>\n",
       "      <th>173</th>\n",
       "      <td>9/18/2020</td>\n",
       "      <td>ARKQ</td>\n",
       "      <td>VIRGIN GALACTIC HOLDINGS INC</td>\n",
       "      <td>SPCE</td>\n",
       "      <td>92766K106</td>\n",
       "      <td>509971.0</td>\n",
       "      <td>8776600.91</td>\n",
       "      <td>1.38</td>\n",
       "    </tr>\n",
       "  </tbody>\n",
       "</table>\n",
       "</div>"
      ],
      "text/plain": [
       "           date  fund                       company ticker      cusip  \\\n",
       "272   12/9/2020  ARKQ  VIRGIN GALACTIC HOLDINGS INC   SPCE  92766K106   \n",
       "274  11/16/2020  ARKQ  VIRGIN GALACTIC HOLDINGS INC   SPCE  92766K106   \n",
       "173   10/9/2020  ARKQ  VIRGIN GALACTIC HOLDINGS INC   SPCE  92766K106   \n",
       "173   9/18/2020  ARKQ  VIRGIN GALACTIC HOLDINGS INC   SPCE  92766K106   \n",
       "\n",
       "        shares  market value($)  weight_ratio  \n",
       "272  1077191.0      34610146.83          2.73  \n",
       "274   877129.0      18323224.81          2.02  \n",
       "173   528269.0      11304956.60          1.57  \n",
       "173   509971.0       8776600.91          1.38  "
      ]
     },
     "execution_count": 141,
     "metadata": {},
     "output_type": "execute_result"
    }
   ],
   "source": [
    "SPCE"
   ]
  },
  {
   "cell_type": "code",
   "execution_count": null,
   "metadata": {},
   "outputs": [],
   "source": []
  },
  {
   "cell_type": "code",
   "execution_count": 142,
   "metadata": {},
   "outputs": [
    {
     "data": {
      "text/plain": [
       "<AxesSubplot:xlabel='date', ylabel='count'>"
      ]
     },
     "execution_count": 142,
     "metadata": {},
     "output_type": "execute_result"
    },
    {
     "data": {
      "image/png": "[encoded data removed]",
      "text/plain": [
       "<Figure size 432x288 with 1 Axes>"
      ]
     },
     "metadata": {
      "needs_background": "light"
     },
     "output_type": "display_data"
    }
   ],
   "source": [
    "sb.countplot(data=SPCE, x='date',hue='weight_ratio')"
   ]
  },
  {
   "cell_type": "code",
   "execution_count": null,
   "metadata": {},
   "outputs": [],
   "source": []
  },
  {
   "cell_type": "code",
   "execution_count": 145,
   "metadata": {},
   "outputs": [
    {
     "data": {
      "text/plain": [
       "<AxesSubplot:xlabel='weight_ratio', ylabel='date'>"
      ]
     },
     "execution_count": 145,
     "metadata": {},
     "output_type": "execute_result"
    },
    {
     "data": {
      "image/png": "[encoded data removed]",
      "text/plain": [
       "<Figure size 432x288 with 1 Axes>"
      ]
     },
     "metadata": {
      "needs_background": "light"
     },
     "output_type": "display_data"
    }
   ],
   "source": [
    "# try to find out the trend of holding for virgin galactic from sep to dec\n",
    "base_color=sb.color_palette()[0]\n",
    "sb.barplot(data=SPCE, x='weight_ratio', y='date', color=base_color, errwidth=0)\n",
    "sb.barplot(data=SPCE, x='weight_ratio', y='date', color=base_color, ci='sd')"
   ]
  },
  {
   "cell_type": "code",
   "execution_count": 146,
   "metadata": {},
   "outputs": [
    {
     "data": {
      "text/plain": [
       "<AxesSubplot:xlabel='shares', ylabel='date'>"
      ]
     },
     "execution_count": 146,
     "metadata": {},
     "output_type": "execute_result"
    },
    {
     "data": {
      "image/png": "[encoded data removed]",
      "text/plain": [
       "<Figure size 432x288 with 1 Axes>"
      ]
     },
     "metadata": {
      "needs_background": "light"
     },
     "output_type": "display_data"
    }
   ],
   "source": [
    "sb.barplot(data=SPCE, x='shares', y='date', color=base_color, errwidth=0)\n",
    "sb.barplot(data=SPCE, x='shares', y='date', color=base_color, ci='sd')"
   ]
  },
  {
   "cell_type": "code",
   "execution_count": null,
   "metadata": {},
   "outputs": [],
   "source": []
  },
  {
   "cell_type": "code",
   "execution_count": 147,
   "metadata": {},
   "outputs": [],
   "source": [
    "TSLA=append1.query('ticker==\"TSLA\"')"
   ]
  },
  {
   "cell_type": "code",
   "execution_count": 148,
   "metadata": {},
   "outputs": [
    {
     "data": {
      "text/html": [
       "<div>\n",
       "<style scoped>\n",
       "    .dataframe tbody tr th:only-of-type {\n",
       "        vertical-align: middle;\n",
       "    }\n",
       "\n",
       "    .dataframe tbody tr th {\n",
       "        vertical-align: top;\n",
       "    }\n",
       "\n",
       "    .dataframe thead th {\n",
       "        text-align: right;\n",
       "    }\n",
       "</style>\n",
       "<table border=\"1\" class=\"dataframe\">\n",
       "  <thead>\n",
       "    <tr style=\"text-align: right;\">\n",
       "      <th></th>\n",
       "      <th>date</th>\n",
       "      <th>fund</th>\n",
       "      <th>company</th>\n",
       "      <th>ticker</th>\n",
       "      <th>cusip</th>\n",
       "      <th>shares</th>\n",
       "      <th>market value($)</th>\n",
       "      <th>weight_ratio</th>\n",
       "    </tr>\n",
       "  </thead>\n",
       "  <tbody>\n",
       "    <tr>\n",
       "      <th>101</th>\n",
       "      <td>12/9/2020</td>\n",
       "      <td>ARKK</td>\n",
       "      <td>TESLA INC</td>\n",
       "      <td>TSLA</td>\n",
       "      <td>88160R101</td>\n",
       "      <td>2503355.0</td>\n",
       "      <td>1.513228e+09</td>\n",
       "      <td>10.09</td>\n",
       "    </tr>\n",
       "    <tr>\n",
       "      <th>152</th>\n",
       "      <td>12/9/2020</td>\n",
       "      <td>ARKW</td>\n",
       "      <td>TESLA INC</td>\n",
       "      <td>TSLA</td>\n",
       "      <td>88160R101</td>\n",
       "      <td>754060.0</td>\n",
       "      <td>4.558142e+08</td>\n",
       "      <td>9.85</td>\n",
       "    </tr>\n",
       "    <tr>\n",
       "      <th>258</th>\n",
       "      <td>12/9/2020</td>\n",
       "      <td>ARKQ</td>\n",
       "      <td>TESLA INC</td>\n",
       "      <td>TSLA</td>\n",
       "      <td>88160R101</td>\n",
       "      <td>244536.0</td>\n",
       "      <td>1.478171e+08</td>\n",
       "      <td>11.68</td>\n",
       "    </tr>\n",
       "    <tr>\n",
       "      <th>99</th>\n",
       "      <td>11/16/2020</td>\n",
       "      <td>ARKK</td>\n",
       "      <td>TESLA INC</td>\n",
       "      <td>TSLA</td>\n",
       "      <td>88160R101</td>\n",
       "      <td>2487496.0</td>\n",
       "      <td>1.015122e+09</td>\n",
       "      <td>9.13</td>\n",
       "    </tr>\n",
       "    <tr>\n",
       "      <th>150</th>\n",
       "      <td>11/16/2020</td>\n",
       "      <td>ARKW</td>\n",
       "      <td>TESLA INC</td>\n",
       "      <td>TSLA</td>\n",
       "      <td>88160R101</td>\n",
       "      <td>722465.0</td>\n",
       "      <td>2.948307e+08</td>\n",
       "      <td>8.66</td>\n",
       "    </tr>\n",
       "    <tr>\n",
       "      <th>252</th>\n",
       "      <td>11/16/2020</td>\n",
       "      <td>ARKQ</td>\n",
       "      <td>TESLA INC</td>\n",
       "      <td>TSLA</td>\n",
       "      <td>88160R101</td>\n",
       "      <td>219483.0</td>\n",
       "      <td>8.956882e+07</td>\n",
       "      <td>9.87</td>\n",
       "    </tr>\n",
       "    <tr>\n",
       "      <th>0</th>\n",
       "      <td>10/9/2020</td>\n",
       "      <td>ARKK</td>\n",
       "      <td>TESLA INC</td>\n",
       "      <td>TSLA</td>\n",
       "      <td>88160R101</td>\n",
       "      <td>2335461.0</td>\n",
       "      <td>1.013590e+09</td>\n",
       "      <td>10.03</td>\n",
       "    </tr>\n",
       "    <tr>\n",
       "      <th>50</th>\n",
       "      <td>10/9/2020</td>\n",
       "      <td>ARKW</td>\n",
       "      <td>TESLA INC</td>\n",
       "      <td>TSLA</td>\n",
       "      <td>88160R101</td>\n",
       "      <td>666116.0</td>\n",
       "      <td>2.890943e+08</td>\n",
       "      <td>10.28</td>\n",
       "    </tr>\n",
       "    <tr>\n",
       "      <th>149</th>\n",
       "      <td>10/9/2020</td>\n",
       "      <td>ARKQ</td>\n",
       "      <td>TESLA INC</td>\n",
       "      <td>TSLA</td>\n",
       "      <td>88160R101</td>\n",
       "      <td>168462.0</td>\n",
       "      <td>7.311251e+07</td>\n",
       "      <td>10.14</td>\n",
       "    </tr>\n",
       "    <tr>\n",
       "      <th>0</th>\n",
       "      <td>9/18/2020</td>\n",
       "      <td>ARKK</td>\n",
       "      <td>TESLA INC</td>\n",
       "      <td>TSLA</td>\n",
       "      <td>88160R101</td>\n",
       "      <td>2033445.0</td>\n",
       "      <td>8.990877e+08</td>\n",
       "      <td>10.65</td>\n",
       "    </tr>\n",
       "    <tr>\n",
       "      <th>50</th>\n",
       "      <td>9/18/2020</td>\n",
       "      <td>ARKW</td>\n",
       "      <td>TESLA INC</td>\n",
       "      <td>TSLA</td>\n",
       "      <td>88160R101</td>\n",
       "      <td>589229.0</td>\n",
       "      <td>2.605276e+08</td>\n",
       "      <td>11.18</td>\n",
       "    </tr>\n",
       "    <tr>\n",
       "      <th>147</th>\n",
       "      <td>9/18/2020</td>\n",
       "      <td>ARKQ</td>\n",
       "      <td>TESLA INC</td>\n",
       "      <td>TSLA</td>\n",
       "      <td>88160R101</td>\n",
       "      <td>159965.0</td>\n",
       "      <td>7.072852e+07</td>\n",
       "      <td>11.10</td>\n",
       "    </tr>\n",
       "  </tbody>\n",
       "</table>\n",
       "</div>"
      ],
      "text/plain": [
       "           date  fund    company ticker      cusip     shares  \\\n",
       "101   12/9/2020  ARKK  TESLA INC   TSLA  88160R101  2503355.0   \n",
       "152   12/9/2020  ARKW  TESLA INC   TSLA  88160R101   754060.0   \n",
       "258   12/9/2020  ARKQ  TESLA INC   TSLA  88160R101   244536.0   \n",
       "99   11/16/2020  ARKK  TESLA INC   TSLA  88160R101  2487496.0   \n",
       "150  11/16/2020  ARKW  TESLA INC   TSLA  88160R101   722465.0   \n",
       "252  11/16/2020  ARKQ  TESLA INC   TSLA  88160R101   219483.0   \n",
       "0     10/9/2020  ARKK  TESLA INC   TSLA  88160R101  2335461.0   \n",
       "50    10/9/2020  ARKW  TESLA INC   TSLA  88160R101   666116.0   \n",
       "149   10/9/2020  ARKQ  TESLA INC   TSLA  88160R101   168462.0   \n",
       "0     9/18/2020  ARKK  TESLA INC   TSLA  88160R101  2033445.0   \n",
       "50    9/18/2020  ARKW  TESLA INC   TSLA  88160R101   589229.0   \n",
       "147   9/18/2020  ARKQ  TESLA INC   TSLA  88160R101   159965.0   \n",
       "\n",
       "     market value($)  weight_ratio  \n",
       "101     1.513228e+09         10.09  \n",
       "152     4.558142e+08          9.85  \n",
       "258     1.478171e+08         11.68  \n",
       "99      1.015122e+09          9.13  \n",
       "150     2.948307e+08          8.66  \n",
       "252     8.956882e+07          9.87  \n",
       "0       1.013590e+09         10.03  \n",
       "50      2.890943e+08         10.28  \n",
       "149     7.311251e+07         10.14  \n",
       "0       8.990877e+08         10.65  \n",
       "50      2.605276e+08         11.18  \n",
       "147     7.072852e+07         11.10  "
      ]
     },
     "execution_count": 148,
     "metadata": {},
     "output_type": "execute_result"
    }
   ],
   "source": [
    "TSLA"
   ]
  },
  {
   "cell_type": "code",
   "execution_count": 149,
   "metadata": {},
   "outputs": [
    {
     "data": {
      "text/plain": [
       "<AxesSubplot:xlabel='weight_ratio', ylabel='date'>"
      ]
     },
     "execution_count": 149,
     "metadata": {},
     "output_type": "execute_result"
    },
    {
     "data": {
      "image/png": "[encoded data removed]",
      "text/plain": [
       "<Figure size 432x288 with 1 Axes>"
      ]
     },
     "metadata": {
      "needs_background": "light"
     },
     "output_type": "display_data"
    }
   ],
   "source": [
    "sb.barplot(data=TSLA, x='weight_ratio', y='date', color=base_color, errwidth=0)\n",
    "sb.barplot(data=TSLA, x='weight_ratio', y='date', color=base_color, ci='sd')"
   ]
  },
  {
   "cell_type": "code",
   "execution_count": null,
   "metadata": {},
   "outputs": [],
   "source": []
  },
  {
   "cell_type": "code",
   "execution_count": 150,
   "metadata": {},
   "outputs": [],
   "source": [
    "ROKU=append1.query('ticker==\"ROKU\"')"
   ]
  },
  {
   "cell_type": "raw",
   "metadata": {},
   "source": []
  },
  {
   "cell_type": "code",
   "execution_count": 151,
   "metadata": {},
   "outputs": [
    {
     "data": {
      "text/plain": [
       "<AxesSubplot:xlabel='weight_ratio', ylabel='date'>"
      ]
     },
     "execution_count": 151,
     "metadata": {},
     "output_type": "execute_result"
    },
    {
     "data": {
      "image/png": "[encoded data removed]",
      "text/plain": [
       "<Figure size 432x288 with 1 Axes>"
      ]
     },
     "metadata": {
      "needs_background": "light"
     },
     "output_type": "display_data"
    }
   ],
   "source": [
    "sb.barplot(data=ROKU, x='weight_ratio', y='date', color=base_color, errwidth=0)\n",
    "sb.barplot(data=ROKU, x='weight_ratio', y='date', color=base_color, ci='sd')"
   ]
  },
  {
   "cell_type": "code",
   "execution_count": null,
   "metadata": {},
   "outputs": [],
   "source": []
  },
  {
   "cell_type": "code",
   "execution_count": 152,
   "metadata": {},
   "outputs": [],
   "source": [
    "CRSP=append1.query('ticker==\"CRSP\"')"
   ]
  },
  {
   "cell_type": "code",
   "execution_count": 153,
   "metadata": {},
   "outputs": [
    {
     "data": {
      "text/plain": [
       "<AxesSubplot:xlabel='weight_ratio', ylabel='date'>"
      ]
     },
     "execution_count": 153,
     "metadata": {},
     "output_type": "execute_result"
    },
    {
     "data": {
      "image/png": "[encoded data removed]",
      "text/plain": [
       "<Figure size 432x288 with 1 Axes>"
      ]
     },
     "metadata": {
      "needs_background": "light"
     },
     "output_type": "display_data"
    }
   ],
   "source": [
    "sb.barplot(data=CRSP, x='weight_ratio', y='date', color=base_color, errwidth=0)\n",
    "sb.barplot(data=CRSP, x='weight_ratio', y='date', color=base_color, ci='sd')"
   ]
  },
  {
   "cell_type": "code",
   "execution_count": null,
   "metadata": {},
   "outputs": [],
   "source": []
  },
  {
   "cell_type": "code",
   "execution_count": 154,
   "metadata": {},
   "outputs": [],
   "source": [
    "NVTA=append1.query('ticker==\"NVTA\"')"
   ]
  },
  {
   "cell_type": "code",
   "execution_count": 155,
   "metadata": {},
   "outputs": [
    {
     "data": {
      "text/plain": [
       "<AxesSubplot:xlabel='weight_ratio', ylabel='date'>"
      ]
     },
     "execution_count": 155,
     "metadata": {},
     "output_type": "execute_result"
    },
    {
     "data": {
      "image/png": "[encoded data removed]",
      "text/plain": [
       "<Figure size 432x288 with 1 Axes>"
      ]
     },
     "metadata": {
      "needs_background": "light"
     },
     "output_type": "display_data"
    }
   ],
   "source": [
    "sb.barplot(data=NVTA, x='weight_ratio', y='date', color=base_color, errwidth=0)\n",
    "sb.barplot(data=NVTA, x='weight_ratio', y='date', color=base_color, ci='sd')"
   ]
  },
  {
   "cell_type": "code",
   "execution_count": null,
   "metadata": {},
   "outputs": [],
   "source": []
  },
  {
   "cell_type": "code",
   "execution_count": 156,
   "metadata": {},
   "outputs": [],
   "source": [
    "SQ=append1.query('ticker==\"SQ\"')"
   ]
  },
  {
   "cell_type": "code",
   "execution_count": 157,
   "metadata": {},
   "outputs": [
    {
     "data": {
      "text/plain": [
       "<AxesSubplot:xlabel='weight_ratio', ylabel='date'>"
      ]
     },
     "execution_count": 157,
     "metadata": {},
     "output_type": "execute_result"
    },
    {
     "data": {
      "image/png": "[encoded data removed]",
      "text/plain": [
       "<Figure size 432x288 with 1 Axes>"
      ]
     },
     "metadata": {
      "needs_background": "light"
     },
     "output_type": "display_data"
    }
   ],
   "source": [
    "sb.barplot(data=SQ, x='weight_ratio', y='date', color=base_color, errwidth=0)\n",
    "sb.barplot(data=SQ, x='weight_ratio', y='date', color=base_color, ci='sd')"
   ]
  },
  {
   "cell_type": "code",
   "execution_count": null,
   "metadata": {},
   "outputs": [],
   "source": []
  },
  {
   "cell_type": "code",
   "execution_count": 158,
   "metadata": {},
   "outputs": [
    {
     "data": {
      "text/plain": [
       "<AxesSubplot:xlabel='weight_ratio', ylabel='date'>"
      ]
     },
     "execution_count": 158,
     "metadata": {},
     "output_type": "execute_result"
    },
    {
     "data": {
      "image/png": "[encoded data removed]",
      "text/plain": [
       "<Figure size 432x288 with 1 Axes>"
      ]
     },
     "metadata": {
      "needs_background": "light"
     },
     "output_type": "display_data"
    }
   ],
   "source": [
    "DDD=append1.query('ticker==\"DDD\"')\n",
    "\n",
    "sb.barplot(data=DDD, x='weight_ratio', y='date', color=base_color, errwidth=0)\n",
    "sb.barplot(data=DDD, x='weight_ratio', y='date', color=base_color, ci='sd')"
   ]
  },
  {
   "cell_type": "code",
   "execution_count": 159,
   "metadata": {},
   "outputs": [
    {
     "data": {
      "text/html": [
       "<div>\n",
       "<style scoped>\n",
       "    .dataframe tbody tr th:only-of-type {\n",
       "        vertical-align: middle;\n",
       "    }\n",
       "\n",
       "    .dataframe tbody tr th {\n",
       "        vertical-align: top;\n",
       "    }\n",
       "\n",
       "    .dataframe thead th {\n",
       "        text-align: right;\n",
       "    }\n",
       "</style>\n",
       "<table border=\"1\" class=\"dataframe\">\n",
       "  <thead>\n",
       "    <tr style=\"text-align: right;\">\n",
       "      <th></th>\n",
       "      <th>date</th>\n",
       "      <th>fund</th>\n",
       "      <th>company</th>\n",
       "      <th>ticker</th>\n",
       "      <th>cusip</th>\n",
       "      <th>shares</th>\n",
       "      <th>market value($)</th>\n",
       "      <th>weight_ratio</th>\n",
       "    </tr>\n",
       "  </thead>\n",
       "  <tbody>\n",
       "    <tr>\n",
       "      <th>1</th>\n",
       "      <td>12/9/2020</td>\n",
       "      <td>PRNT</td>\n",
       "      <td>3D SYSTEMS CORP</td>\n",
       "      <td>DDD</td>\n",
       "      <td>88554D205</td>\n",
       "      <td>664111.0</td>\n",
       "      <td>6880189.96</td>\n",
       "      <td>6.69</td>\n",
       "    </tr>\n",
       "    <tr>\n",
       "      <th>2</th>\n",
       "      <td>11/16/2020</td>\n",
       "      <td>PRNT</td>\n",
       "      <td>3D SYSTEMS CORP</td>\n",
       "      <td>DDD</td>\n",
       "      <td>88554D205</td>\n",
       "      <td>547875.0</td>\n",
       "      <td>3895391.25</td>\n",
       "      <td>5.15</td>\n",
       "    </tr>\n",
       "  </tbody>\n",
       "</table>\n",
       "</div>"
      ],
      "text/plain": [
       "         date  fund          company ticker      cusip    shares  \\\n",
       "1   12/9/2020  PRNT  3D SYSTEMS CORP    DDD  88554D205  664111.0   \n",
       "2  11/16/2020  PRNT  3D SYSTEMS CORP    DDD  88554D205  547875.0   \n",
       "\n",
       "   market value($)  weight_ratio  \n",
       "1       6880189.96          6.69  \n",
       "2       3895391.25          5.15  "
      ]
     },
     "execution_count": 159,
     "metadata": {},
     "output_type": "execute_result"
    }
   ],
   "source": [
    "DDD"
   ]
  },
  {
   "cell_type": "code",
   "execution_count": 160,
   "metadata": {},
   "outputs": [
    {
     "data": {
      "text/html": [
       "<div>\n",
       "<style scoped>\n",
       "    .dataframe tbody tr th:only-of-type {\n",
       "        vertical-align: middle;\n",
       "    }\n",
       "\n",
       "    .dataframe tbody tr th {\n",
       "        vertical-align: top;\n",
       "    }\n",
       "\n",
       "    .dataframe thead th {\n",
       "        text-align: right;\n",
       "    }\n",
       "</style>\n",
       "<table border=\"1\" class=\"dataframe\">\n",
       "  <thead>\n",
       "    <tr style=\"text-align: right;\">\n",
       "      <th></th>\n",
       "      <th>date</th>\n",
       "      <th>fund</th>\n",
       "      <th>company</th>\n",
       "      <th>ticker</th>\n",
       "      <th>cusip</th>\n",
       "      <th>shares</th>\n",
       "      <th>market value($)</th>\n",
       "      <th>weight_ratio</th>\n",
       "    </tr>\n",
       "  </thead>\n",
       "  <tbody>\n",
       "    <tr>\n",
       "      <th>0</th>\n",
       "      <td>12/9/2020</td>\n",
       "      <td>PRNT</td>\n",
       "      <td>SLM SOLUTIONS GROUP AG</td>\n",
       "      <td>AM3D</td>\n",
       "      <td>BMHTHK2</td>\n",
       "      <td>342895.00</td>\n",
       "      <td>7083409.24</td>\n",
       "      <td>6.89</td>\n",
       "    </tr>\n",
       "    <tr>\n",
       "      <th>1</th>\n",
       "      <td>12/9/2020</td>\n",
       "      <td>PRNT</td>\n",
       "      <td>3D SYSTEMS CORP</td>\n",
       "      <td>DDD</td>\n",
       "      <td>88554D205</td>\n",
       "      <td>664111.00</td>\n",
       "      <td>6880189.96</td>\n",
       "      <td>6.69</td>\n",
       "    </tr>\n",
       "    <tr>\n",
       "      <th>2</th>\n",
       "      <td>12/9/2020</td>\n",
       "      <td>PRNT</td>\n",
       "      <td>HP INC</td>\n",
       "      <td>HPQ</td>\n",
       "      <td>40434L105</td>\n",
       "      <td>228063.00</td>\n",
       "      <td>5288780.97</td>\n",
       "      <td>5.14</td>\n",
       "    </tr>\n",
       "    <tr>\n",
       "      <th>3</th>\n",
       "      <td>12/9/2020</td>\n",
       "      <td>PRNT</td>\n",
       "      <td>STRATASYS LTD</td>\n",
       "      <td>SSYS</td>\n",
       "      <td>M85548101</td>\n",
       "      <td>257143.00</td>\n",
       "      <td>4906288.44</td>\n",
       "      <td>4.77</td>\n",
       "    </tr>\n",
       "    <tr>\n",
       "      <th>4</th>\n",
       "      <td>12/9/2020</td>\n",
       "      <td>PRNT</td>\n",
       "      <td>PTC INC</td>\n",
       "      <td>PTC</td>\n",
       "      <td>69370C100</td>\n",
       "      <td>43571.00</td>\n",
       "      <td>4861216.47</td>\n",
       "      <td>4.73</td>\n",
       "    </tr>\n",
       "    <tr>\n",
       "      <th>5</th>\n",
       "      <td>12/9/2020</td>\n",
       "      <td>PRNT</td>\n",
       "      <td>STRAUMANN HOLDING AG-REG</td>\n",
       "      <td>STMN</td>\n",
       "      <td>7156832</td>\n",
       "      <td>4152.00</td>\n",
       "      <td>4842560.85</td>\n",
       "      <td>4.71</td>\n",
       "    </tr>\n",
       "    <tr>\n",
       "      <th>6</th>\n",
       "      <td>12/9/2020</td>\n",
       "      <td>PRNT</td>\n",
       "      <td>TRIMBLE INC</td>\n",
       "      <td>TRMB</td>\n",
       "      <td>896239100</td>\n",
       "      <td>73291.00</td>\n",
       "      <td>4634922.84</td>\n",
       "      <td>4.51</td>\n",
       "    </tr>\n",
       "    <tr>\n",
       "      <th>7</th>\n",
       "      <td>12/9/2020</td>\n",
       "      <td>PRNT</td>\n",
       "      <td>PROTO LABS INC</td>\n",
       "      <td>PRLB</td>\n",
       "      <td>743713109</td>\n",
       "      <td>30760.00</td>\n",
       "      <td>4637070.00</td>\n",
       "      <td>4.51</td>\n",
       "    </tr>\n",
       "    <tr>\n",
       "      <th>8</th>\n",
       "      <td>12/9/2020</td>\n",
       "      <td>PRNT</td>\n",
       "      <td>RENISHAW PLC</td>\n",
       "      <td>RSW</td>\n",
       "      <td>0732358</td>\n",
       "      <td>59694.00</td>\n",
       "      <td>4622544.18</td>\n",
       "      <td>4.49</td>\n",
       "    </tr>\n",
       "    <tr>\n",
       "      <th>9</th>\n",
       "      <td>12/9/2020</td>\n",
       "      <td>PRNT</td>\n",
       "      <td>ALTAIR ENGINEERING INC - A</td>\n",
       "      <td>ALTR</td>\n",
       "      <td>021369103</td>\n",
       "      <td>83357.00</td>\n",
       "      <td>4578800.01</td>\n",
       "      <td>4.45</td>\n",
       "    </tr>\n",
       "    <tr>\n",
       "      <th>10</th>\n",
       "      <td>12/9/2020</td>\n",
       "      <td>PRNT</td>\n",
       "      <td>MGI DIGITAL GRAPHIC TECHNOLO</td>\n",
       "      <td>ALMDG</td>\n",
       "      <td>B18FJV7</td>\n",
       "      <td>80812.00</td>\n",
       "      <td>4539561.24</td>\n",
       "      <td>4.41</td>\n",
       "    </tr>\n",
       "    <tr>\n",
       "      <th>11</th>\n",
       "      <td>12/9/2020</td>\n",
       "      <td>PRNT</td>\n",
       "      <td>MATERIALISE NV-ADR</td>\n",
       "      <td>MTLS</td>\n",
       "      <td>57667T100</td>\n",
       "      <td>91533.00</td>\n",
       "      <td>4245300.54</td>\n",
       "      <td>4.13</td>\n",
       "    </tr>\n",
       "    <tr>\n",
       "      <th>12</th>\n",
       "      <td>12/9/2020</td>\n",
       "      <td>PRNT</td>\n",
       "      <td>EXONE CO/THE</td>\n",
       "      <td>XONE</td>\n",
       "      <td>302104104</td>\n",
       "      <td>359875.00</td>\n",
       "      <td>4228531.25</td>\n",
       "      <td>4.11</td>\n",
       "    </tr>\n",
       "    <tr>\n",
       "      <th>13</th>\n",
       "      <td>12/9/2020</td>\n",
       "      <td>PRNT</td>\n",
       "      <td>AUTODESK INC</td>\n",
       "      <td>ADSK</td>\n",
       "      <td>052769106</td>\n",
       "      <td>15038.00</td>\n",
       "      <td>4201917.96</td>\n",
       "      <td>4.08</td>\n",
       "    </tr>\n",
       "    <tr>\n",
       "      <th>14</th>\n",
       "      <td>12/9/2020</td>\n",
       "      <td>PRNT</td>\n",
       "      <td>DASSAULT SYSTEMES SE</td>\n",
       "      <td>DSY</td>\n",
       "      <td>5330047</td>\n",
       "      <td>20713.00</td>\n",
       "      <td>3857195.09</td>\n",
       "      <td>3.75</td>\n",
       "    </tr>\n",
       "    <tr>\n",
       "      <th>15</th>\n",
       "      <td>12/9/2020</td>\n",
       "      <td>PRNT</td>\n",
       "      <td>MICROSOFT CORP</td>\n",
       "      <td>MSFT</td>\n",
       "      <td>594918104</td>\n",
       "      <td>17406.00</td>\n",
       "      <td>3686590.80</td>\n",
       "      <td>3.58</td>\n",
       "    </tr>\n",
       "    <tr>\n",
       "      <th>16</th>\n",
       "      <td>12/9/2020</td>\n",
       "      <td>PRNT</td>\n",
       "      <td>ANSYS INC</td>\n",
       "      <td>ANSS</td>\n",
       "      <td>03662Q105</td>\n",
       "      <td>10897.00</td>\n",
       "      <td>3645591.35</td>\n",
       "      <td>3.54</td>\n",
       "    </tr>\n",
       "    <tr>\n",
       "      <th>17</th>\n",
       "      <td>12/9/2020</td>\n",
       "      <td>PRNT</td>\n",
       "      <td>ALIGN TECHNOLOGY INC</td>\n",
       "      <td>ALGN</td>\n",
       "      <td>016255101</td>\n",
       "      <td>3298.00</td>\n",
       "      <td>1678714.98</td>\n",
       "      <td>1.63</td>\n",
       "    </tr>\n",
       "    <tr>\n",
       "      <th>18</th>\n",
       "      <td>12/9/2020</td>\n",
       "      <td>PRNT</td>\n",
       "      <td>GENERAL ELECTRIC CO</td>\n",
       "      <td>GE</td>\n",
       "      <td>369604103</td>\n",
       "      <td>111024.00</td>\n",
       "      <td>1264563.36</td>\n",
       "      <td>1.23</td>\n",
       "    </tr>\n",
       "    <tr>\n",
       "      <th>19</th>\n",
       "      <td>12/9/2020</td>\n",
       "      <td>PRNT</td>\n",
       "      <td>HEXAGON AB-B SHS</td>\n",
       "      <td>HEXAB</td>\n",
       "      <td>B1XFTL2</td>\n",
       "      <td>14698.00</td>\n",
       "      <td>1225424.87</td>\n",
       "      <td>1.19</td>\n",
       "    </tr>\n",
       "    <tr>\n",
       "      <th>20</th>\n",
       "      <td>12/9/2020</td>\n",
       "      <td>PRNT</td>\n",
       "      <td>AMETEK INC</td>\n",
       "      <td>AME</td>\n",
       "      <td>031100100</td>\n",
       "      <td>10237.00</td>\n",
       "      <td>1215746.12</td>\n",
       "      <td>1.18</td>\n",
       "    </tr>\n",
       "    <tr>\n",
       "      <th>21</th>\n",
       "      <td>12/9/2020</td>\n",
       "      <td>PRNT</td>\n",
       "      <td>FARO TECHNOLOGIES INC</td>\n",
       "      <td>FARO</td>\n",
       "      <td>311642102</td>\n",
       "      <td>17444.00</td>\n",
       "      <td>1191948.52</td>\n",
       "      <td>1.16</td>\n",
       "    </tr>\n",
       "    <tr>\n",
       "      <th>22</th>\n",
       "      <td>12/9/2020</td>\n",
       "      <td>PRNT</td>\n",
       "      <td>KAISER ALUMINUM CORP</td>\n",
       "      <td>KALU</td>\n",
       "      <td>483007704</td>\n",
       "      <td>12170.00</td>\n",
       "      <td>1148848.00</td>\n",
       "      <td>1.12</td>\n",
       "    </tr>\n",
       "    <tr>\n",
       "      <th>23</th>\n",
       "      <td>12/9/2020</td>\n",
       "      <td>PRNT</td>\n",
       "      <td>ULTRA CLEAN HOLDINGS INC</td>\n",
       "      <td>UCTT</td>\n",
       "      <td>90385V107</td>\n",
       "      <td>31659.00</td>\n",
       "      <td>1088753.01</td>\n",
       "      <td>1.06</td>\n",
       "    </tr>\n",
       "    <tr>\n",
       "      <th>24</th>\n",
       "      <td>12/9/2020</td>\n",
       "      <td>PRNT</td>\n",
       "      <td>ARCONIC CORP</td>\n",
       "      <td>ARNC</td>\n",
       "      <td>03966V107</td>\n",
       "      <td>33792.00</td>\n",
       "      <td>1033359.36</td>\n",
       "      <td>1.00</td>\n",
       "    </tr>\n",
       "    <tr>\n",
       "      <th>25</th>\n",
       "      <td>12/9/2020</td>\n",
       "      <td>PRNT</td>\n",
       "      <td>BERTRANDT AG</td>\n",
       "      <td>BDT</td>\n",
       "      <td>5130861</td>\n",
       "      <td>20501.00</td>\n",
       "      <td>990649.69</td>\n",
       "      <td>0.96</td>\n",
       "    </tr>\n",
       "    <tr>\n",
       "      <th>26</th>\n",
       "      <td>12/9/2020</td>\n",
       "      <td>PRNT</td>\n",
       "      <td>MOOG INC-CLASS A</td>\n",
       "      <td>MOG/A</td>\n",
       "      <td>615394202</td>\n",
       "      <td>11818.00</td>\n",
       "      <td>986566.64</td>\n",
       "      <td>0.96</td>\n",
       "    </tr>\n",
       "    <tr>\n",
       "      <th>27</th>\n",
       "      <td>12/9/2020</td>\n",
       "      <td>PRNT</td>\n",
       "      <td>OC OERLIKON CORP AG-REG</td>\n",
       "      <td>OERL</td>\n",
       "      <td>4612757</td>\n",
       "      <td>99069.00</td>\n",
       "      <td>971701.46</td>\n",
       "      <td>0.94</td>\n",
       "    </tr>\n",
       "    <tr>\n",
       "      <th>28</th>\n",
       "      <td>12/9/2020</td>\n",
       "      <td>PRNT</td>\n",
       "      <td>LINCOLN ELECTRIC HOLDINGS</td>\n",
       "      <td>LECO</td>\n",
       "      <td>533900106</td>\n",
       "      <td>7714.00</td>\n",
       "      <td>926374.26</td>\n",
       "      <td>0.90</td>\n",
       "    </tr>\n",
       "    <tr>\n",
       "      <th>29</th>\n",
       "      <td>12/9/2020</td>\n",
       "      <td>PRNT</td>\n",
       "      <td>MICHELIN (CGDE)</td>\n",
       "      <td>ML</td>\n",
       "      <td>4588364</td>\n",
       "      <td>7202.00</td>\n",
       "      <td>923545.27</td>\n",
       "      <td>0.90</td>\n",
       "    </tr>\n",
       "    <tr>\n",
       "      <th>30</th>\n",
       "      <td>12/9/2020</td>\n",
       "      <td>PRNT</td>\n",
       "      <td>SIEMENS AG-REG</td>\n",
       "      <td>SIE</td>\n",
       "      <td>5727973</td>\n",
       "      <td>5966.00</td>\n",
       "      <td>820903.38</td>\n",
       "      <td>0.80</td>\n",
       "    </tr>\n",
       "    <tr>\n",
       "      <th>31</th>\n",
       "      <td>12/9/2020</td>\n",
       "      <td>PRNT</td>\n",
       "      <td>MEDTRONIC PLC</td>\n",
       "      <td>MDT UN</td>\n",
       "      <td>G5960L103</td>\n",
       "      <td>7171.00</td>\n",
       "      <td>809964.45</td>\n",
       "      <td>0.79</td>\n",
       "    </tr>\n",
       "    <tr>\n",
       "      <th>32</th>\n",
       "      <td>12/9/2020</td>\n",
       "      <td>PRNT</td>\n",
       "      <td>AEROJET ROCKETDYNE HOLDINGS</td>\n",
       "      <td>AJRD</td>\n",
       "      <td>007800105</td>\n",
       "      <td>19480.00</td>\n",
       "      <td>817575.60</td>\n",
       "      <td>0.79</td>\n",
       "    </tr>\n",
       "    <tr>\n",
       "      <th>33</th>\n",
       "      <td>12/9/2020</td>\n",
       "      <td>PRNT</td>\n",
       "      <td>STRYKER CORP</td>\n",
       "      <td>SYK</td>\n",
       "      <td>863667101</td>\n",
       "      <td>3447.00</td>\n",
       "      <td>813250.71</td>\n",
       "      <td>0.79</td>\n",
       "    </tr>\n",
       "    <tr>\n",
       "      <th>34</th>\n",
       "      <td>12/9/2020</td>\n",
       "      <td>PRNT</td>\n",
       "      <td>UNITED PARCEL SERVICE-CL B</td>\n",
       "      <td>UPS</td>\n",
       "      <td>911312106</td>\n",
       "      <td>4496.00</td>\n",
       "      <td>760633.28</td>\n",
       "      <td>0.74</td>\n",
       "    </tr>\n",
       "    <tr>\n",
       "      <th>35</th>\n",
       "      <td>12/9/2020</td>\n",
       "      <td>PRNT</td>\n",
       "      <td>NUVASIVE INC</td>\n",
       "      <td>NUVA</td>\n",
       "      <td>670704105</td>\n",
       "      <td>14490.00</td>\n",
       "      <td>662627.70</td>\n",
       "      <td>0.64</td>\n",
       "    </tr>\n",
       "    <tr>\n",
       "      <th>36</th>\n",
       "      <td>12/9/2020</td>\n",
       "      <td>PRNT</td>\n",
       "      <td>MORGAN STANLEY GOVT INSTL 8035</td>\n",
       "      <td>NaN</td>\n",
       "      <td>X9USDMORS</td>\n",
       "      <td>632129.70</td>\n",
       "      <td>632129.70</td>\n",
       "      <td>0.61</td>\n",
       "    </tr>\n",
       "    <tr>\n",
       "      <th>37</th>\n",
       "      <td>12/9/2020</td>\n",
       "      <td>PRNT</td>\n",
       "      <td>ALLEGHENY TECHNOLOGIES INC</td>\n",
       "      <td>ATI</td>\n",
       "      <td>01741R102</td>\n",
       "      <td>12485.00</td>\n",
       "      <td>207500.70</td>\n",
       "      <td>0.20</td>\n",
       "    </tr>\n",
       "    <tr>\n",
       "      <th>38</th>\n",
       "      <td>12/9/2020</td>\n",
       "      <td>PRNT</td>\n",
       "      <td>CARPENTER TECHNOLOGY</td>\n",
       "      <td>CRS</td>\n",
       "      <td>144285103</td>\n",
       "      <td>6284.00</td>\n",
       "      <td>177083.12</td>\n",
       "      <td>0.17</td>\n",
       "    </tr>\n",
       "    <tr>\n",
       "      <th>39</th>\n",
       "      <td>12/9/2020</td>\n",
       "      <td>PRNT</td>\n",
       "      <td>HEXCEL CORP</td>\n",
       "      <td>HXL</td>\n",
       "      <td>428291108</td>\n",
       "      <td>3202.00</td>\n",
       "      <td>171723.26</td>\n",
       "      <td>0.17</td>\n",
       "    </tr>\n",
       "    <tr>\n",
       "      <th>40</th>\n",
       "      <td>12/9/2020</td>\n",
       "      <td>PRNT</td>\n",
       "      <td>SGL CARBON SE</td>\n",
       "      <td>SGL</td>\n",
       "      <td>4818351</td>\n",
       "      <td>33871.00</td>\n",
       "      <td>157738.42</td>\n",
       "      <td>0.15</td>\n",
       "    </tr>\n",
       "    <tr>\n",
       "      <th>41</th>\n",
       "      <td>12/9/2020</td>\n",
       "      <td>PRNT</td>\n",
       "      <td>TORAY INDUSTRIES INC</td>\n",
       "      <td>3402</td>\n",
       "      <td>6897143</td>\n",
       "      <td>23908.00</td>\n",
       "      <td>143578.77</td>\n",
       "      <td>0.14</td>\n",
       "    </tr>\n",
       "    <tr>\n",
       "      <th>42</th>\n",
       "      <td>12/9/2020</td>\n",
       "      <td>PRNT</td>\n",
       "      <td>EASTMAN CHEMICAL CO</td>\n",
       "      <td>EMN</td>\n",
       "      <td>277432100</td>\n",
       "      <td>1353.00</td>\n",
       "      <td>140914.95</td>\n",
       "      <td>0.14</td>\n",
       "    </tr>\n",
       "    <tr>\n",
       "      <th>43</th>\n",
       "      <td>12/9/2020</td>\n",
       "      <td>PRNT</td>\n",
       "      <td>VOESTALPINE AG</td>\n",
       "      <td>VOE</td>\n",
       "      <td>4943402</td>\n",
       "      <td>4150.00</td>\n",
       "      <td>141127.47</td>\n",
       "      <td>0.14</td>\n",
       "    </tr>\n",
       "    <tr>\n",
       "      <th>44</th>\n",
       "      <td>12/9/2020</td>\n",
       "      <td>PRNT</td>\n",
       "      <td>XEROX HOLDINGS CORP</td>\n",
       "      <td>XRX UN</td>\n",
       "      <td>98421M106</td>\n",
       "      <td>5823.00</td>\n",
       "      <td>133113.78</td>\n",
       "      <td>0.13</td>\n",
       "    </tr>\n",
       "    <tr>\n",
       "      <th>45</th>\n",
       "      <td>12/9/2020</td>\n",
       "      <td>PRNT</td>\n",
       "      <td>EVONIK INDUSTRIES AG</td>\n",
       "      <td>EVK</td>\n",
       "      <td>B5ZQ9D3</td>\n",
       "      <td>4313.00</td>\n",
       "      <td>138490.35</td>\n",
       "      <td>0.13</td>\n",
       "    </tr>\n",
       "    <tr>\n",
       "      <th>46</th>\n",
       "      <td>12/9/2020</td>\n",
       "      <td>PRNT</td>\n",
       "      <td>SANDVIK AB</td>\n",
       "      <td>SAND</td>\n",
       "      <td>B1VQ252</td>\n",
       "      <td>5994.00</td>\n",
       "      <td>138350.23</td>\n",
       "      <td>0.13</td>\n",
       "    </tr>\n",
       "    <tr>\n",
       "      <th>47</th>\n",
       "      <td>12/9/2020</td>\n",
       "      <td>PRNT</td>\n",
       "      <td>DUPONT DE NEMOURS INC</td>\n",
       "      <td>DD</td>\n",
       "      <td>26614N102</td>\n",
       "      <td>1963.00</td>\n",
       "      <td>132639.91</td>\n",
       "      <td>0.13</td>\n",
       "    </tr>\n",
       "    <tr>\n",
       "      <th>48</th>\n",
       "      <td>12/9/2020</td>\n",
       "      <td>PRNT</td>\n",
       "      <td>3M CO</td>\n",
       "      <td>MMM</td>\n",
       "      <td>88579Y101</td>\n",
       "      <td>685.00</td>\n",
       "      <td>120073.65</td>\n",
       "      <td>0.12</td>\n",
       "    </tr>\n",
       "    <tr>\n",
       "      <th>49</th>\n",
       "      <td>12/9/2020</td>\n",
       "      <td>PRNT</td>\n",
       "      <td>ARKEMA</td>\n",
       "      <td>AKE</td>\n",
       "      <td>B0Z5YZ2</td>\n",
       "      <td>1054.00</td>\n",
       "      <td>121853.39</td>\n",
       "      <td>0.12</td>\n",
       "    </tr>\n",
       "    <tr>\n",
       "      <th>50</th>\n",
       "      <td>12/9/2020</td>\n",
       "      <td>PRNT</td>\n",
       "      <td>HENKEL AG &amp; CO KGAA VORZUG</td>\n",
       "      <td>HEN3</td>\n",
       "      <td>5076705</td>\n",
       "      <td>1090.00</td>\n",
       "      <td>117614.34</td>\n",
       "      <td>0.11</td>\n",
       "    </tr>\n",
       "    <tr>\n",
       "      <th>51</th>\n",
       "      <td>12/9/2020</td>\n",
       "      <td>PRNT</td>\n",
       "      <td>KONINKLIJKE DSM NV</td>\n",
       "      <td>DSM</td>\n",
       "      <td>B0HZL93</td>\n",
       "      <td>683.00</td>\n",
       "      <td>111553.31</td>\n",
       "      <td>0.11</td>\n",
       "    </tr>\n",
       "    <tr>\n",
       "      <th>52</th>\n",
       "      <td>12/9/2020</td>\n",
       "      <td>PRNT</td>\n",
       "      <td>U.S. DOLLAR</td>\n",
       "      <td>NaN</td>\n",
       "      <td>CCTUSD</td>\n",
       "      <td>8268.31</td>\n",
       "      <td>8268.31</td>\n",
       "      <td>0.01</td>\n",
       "    </tr>\n",
       "  </tbody>\n",
       "</table>\n",
       "</div>"
      ],
      "text/plain": [
       "         date  fund                         company  ticker      cusip  \\\n",
       "0   12/9/2020  PRNT          SLM SOLUTIONS GROUP AG    AM3D    BMHTHK2   \n",
       "1   12/9/2020  PRNT                 3D SYSTEMS CORP     DDD  88554D205   \n",
       "2   12/9/2020  PRNT                          HP INC     HPQ  40434L105   \n",
       "3   12/9/2020  PRNT                   STRATASYS LTD    SSYS  M85548101   \n",
       "4   12/9/2020  PRNT                         PTC INC     PTC  69370C100   \n",
       "5   12/9/2020  PRNT        STRAUMANN HOLDING AG-REG    STMN    7156832   \n",
       "6   12/9/2020  PRNT                     TRIMBLE INC    TRMB  896239100   \n",
       "7   12/9/2020  PRNT                  PROTO LABS INC    PRLB  743713109   \n",
       "8   12/9/2020  PRNT                    RENISHAW PLC     RSW    0732358   \n",
       "9   12/9/2020  PRNT      ALTAIR ENGINEERING INC - A    ALTR  021369103   \n",
       "10  12/9/2020  PRNT    MGI DIGITAL GRAPHIC TECHNOLO   ALMDG    B18FJV7   \n",
       "11  12/9/2020  PRNT              MATERIALISE NV-ADR    MTLS  57667T100   \n",
       "12  12/9/2020  PRNT                    EXONE CO/THE    XONE  302104104   \n",
       "13  12/9/2020  PRNT                    AUTODESK INC    ADSK  052769106   \n",
       "14  12/9/2020  PRNT            DASSAULT SYSTEMES SE     DSY    5330047   \n",
       "15  12/9/2020  PRNT                  MICROSOFT CORP    MSFT  594918104   \n",
       "16  12/9/2020  PRNT                       ANSYS INC    ANSS  03662Q105   \n",
       "17  12/9/2020  PRNT            ALIGN TECHNOLOGY INC    ALGN  016255101   \n",
       "18  12/9/2020  PRNT             GENERAL ELECTRIC CO      GE  369604103   \n",
       "19  12/9/2020  PRNT                HEXAGON AB-B SHS   HEXAB    B1XFTL2   \n",
       "20  12/9/2020  PRNT                      AMETEK INC     AME  031100100   \n",
       "21  12/9/2020  PRNT           FARO TECHNOLOGIES INC    FARO  311642102   \n",
       "22  12/9/2020  PRNT            KAISER ALUMINUM CORP    KALU  483007704   \n",
       "23  12/9/2020  PRNT        ULTRA CLEAN HOLDINGS INC    UCTT  90385V107   \n",
       "24  12/9/2020  PRNT                    ARCONIC CORP    ARNC  03966V107   \n",
       "25  12/9/2020  PRNT                    BERTRANDT AG     BDT    5130861   \n",
       "26  12/9/2020  PRNT                MOOG INC-CLASS A   MOG/A  615394202   \n",
       "27  12/9/2020  PRNT         OC OERLIKON CORP AG-REG    OERL    4612757   \n",
       "28  12/9/2020  PRNT       LINCOLN ELECTRIC HOLDINGS    LECO  533900106   \n",
       "29  12/9/2020  PRNT                 MICHELIN (CGDE)      ML    4588364   \n",
       "30  12/9/2020  PRNT                  SIEMENS AG-REG     SIE    5727973   \n",
       "31  12/9/2020  PRNT                   MEDTRONIC PLC  MDT UN  G5960L103   \n",
       "32  12/9/2020  PRNT     AEROJET ROCKETDYNE HOLDINGS    AJRD  007800105   \n",
       "33  12/9/2020  PRNT                    STRYKER CORP     SYK  863667101   \n",
       "34  12/9/2020  PRNT      UNITED PARCEL SERVICE-CL B     UPS  911312106   \n",
       "35  12/9/2020  PRNT                    NUVASIVE INC    NUVA  670704105   \n",
       "36  12/9/2020  PRNT  MORGAN STANLEY GOVT INSTL 8035     NaN  X9USDMORS   \n",
       "37  12/9/2020  PRNT      ALLEGHENY TECHNOLOGIES INC     ATI  01741R102   \n",
       "38  12/9/2020  PRNT            CARPENTER TECHNOLOGY     CRS  144285103   \n",
       "39  12/9/2020  PRNT                     HEXCEL CORP     HXL  428291108   \n",
       "40  12/9/2020  PRNT                   SGL CARBON SE     SGL    4818351   \n",
       "41  12/9/2020  PRNT            TORAY INDUSTRIES INC    3402    6897143   \n",
       "42  12/9/2020  PRNT             EASTMAN CHEMICAL CO     EMN  277432100   \n",
       "43  12/9/2020  PRNT                  VOESTALPINE AG     VOE    4943402   \n",
       "44  12/9/2020  PRNT             XEROX HOLDINGS CORP  XRX UN  98421M106   \n",
       "45  12/9/2020  PRNT            EVONIK INDUSTRIES AG     EVK    B5ZQ9D3   \n",
       "46  12/9/2020  PRNT                      SANDVIK AB    SAND    B1VQ252   \n",
       "47  12/9/2020  PRNT           DUPONT DE NEMOURS INC      DD  26614N102   \n",
       "48  12/9/2020  PRNT                           3M CO     MMM  88579Y101   \n",
       "49  12/9/2020  PRNT                          ARKEMA     AKE    B0Z5YZ2   \n",
       "50  12/9/2020  PRNT      HENKEL AG & CO KGAA VORZUG    HEN3    5076705   \n",
       "51  12/9/2020  PRNT              KONINKLIJKE DSM NV     DSM    B0HZL93   \n",
       "52  12/9/2020  PRNT                     U.S. DOLLAR     NaN     CCTUSD   \n",
       "\n",
       "       shares  market value($)  weight_ratio  \n",
       "0   342895.00       7083409.24          6.89  \n",
       "1   664111.00       6880189.96          6.69  \n",
       "2   228063.00       5288780.97          5.14  \n",
       "3   257143.00       4906288.44          4.77  \n",
       "4    43571.00       4861216.47          4.73  \n",
       "5     4152.00       4842560.85          4.71  \n",
       "6    73291.00       4634922.84          4.51  \n",
       "7    30760.00       4637070.00          4.51  \n",
       "8    59694.00       4622544.18          4.49  \n",
       "9    83357.00       4578800.01          4.45  \n",
       "10   80812.00       4539561.24          4.41  \n",
       "11   91533.00       4245300.54          4.13  \n",
       "12  359875.00       4228531.25          4.11  \n",
       "13   15038.00       4201917.96          4.08  \n",
       "14   20713.00       3857195.09          3.75  \n",
       "15   17406.00       3686590.80          3.58  \n",
       "16   10897.00       3645591.35          3.54  \n",
       "17    3298.00       1678714.98          1.63  \n",
       "18  111024.00       1264563.36          1.23  \n",
       "19   14698.00       1225424.87          1.19  \n",
       "20   10237.00       1215746.12          1.18  \n",
       "21   17444.00       1191948.52          1.16  \n",
       "22   12170.00       1148848.00          1.12  \n",
       "23   31659.00       1088753.01          1.06  \n",
       "24   33792.00       1033359.36          1.00  \n",
       "25   20501.00        990649.69          0.96  \n",
       "26   11818.00        986566.64          0.96  \n",
       "27   99069.00        971701.46          0.94  \n",
       "28    7714.00        926374.26          0.90  \n",
       "29    7202.00        923545.27          0.90  \n",
       "30    5966.00        820903.38          0.80  \n",
       "31    7171.00        809964.45          0.79  \n",
       "32   19480.00        817575.60          0.79  \n",
       "33    3447.00        813250.71          0.79  \n",
       "34    4496.00        760633.28          0.74  \n",
       "35   14490.00        662627.70          0.64  \n",
       "36  632129.70        632129.70          0.61  \n",
       "37   12485.00        207500.70          0.20  \n",
       "38    6284.00        177083.12          0.17  \n",
       "39    3202.00        171723.26          0.17  \n",
       "40   33871.00        157738.42          0.15  \n",
       "41   23908.00        143578.77          0.14  \n",
       "42    1353.00        140914.95          0.14  \n",
       "43    4150.00        141127.47          0.14  \n",
       "44    5823.00        133113.78          0.13  \n",
       "45    4313.00        138490.35          0.13  \n",
       "46    5994.00        138350.23          0.13  \n",
       "47    1963.00        132639.91          0.13  \n",
       "48     685.00        120073.65          0.12  \n",
       "49    1054.00        121853.39          0.12  \n",
       "50    1090.00        117614.34          0.11  \n",
       "51     683.00        111553.31          0.11  \n",
       "52    8268.31          8268.31          0.01  "
      ]
     },
     "execution_count": 160,
     "metadata": {},
     "output_type": "execute_result"
    }
   ],
   "source": [
    "df11.query('fund==\"PRNT\"')"
   ]
  },
  {
   "cell_type": "code",
   "execution_count": 161,
   "metadata": {},
   "outputs": [
    {
     "data": {
      "text/plain": [
       "<AxesSubplot:xlabel='weight_ratio', ylabel='date'>"
      ]
     },
     "execution_count": 161,
     "metadata": {},
     "output_type": "execute_result"
    },
    {
     "data": {
      "image/png": "[encoded data removed]",
      "text/plain": [
       "<Figure size 432x288 with 1 Axes>"
      ]
     },
     "metadata": {
      "needs_background": "light"
     },
     "output_type": "display_data"
    }
   ],
   "source": [
    "PACB=append1.query('ticker==\"PACB\"')\n",
    "\n",
    "sb.barplot(data=PACB, x='weight_ratio', y='date', color=base_color, errwidth=0)\n",
    "sb.barplot(data=PACB, x='weight_ratio', y='date', color=base_color, ci='sd')"
   ]
  },
  {
   "cell_type": "code",
   "execution_count": null,
   "metadata": {},
   "outputs": [],
   "source": []
  },
  {
   "cell_type": "code",
   "execution_count": 162,
   "metadata": {},
   "outputs": [
    {
     "data": {
      "text/plain": [
       "<AxesSubplot:xlabel='weight_ratio', ylabel='date'>"
      ]
     },
     "execution_count": 162,
     "metadata": {},
     "output_type": "execute_result"
    },
    {
     "data": {
      "image/png": "[encoded data removed]",
      "text/plain": [
       "<Figure size 432x288 with 1 Axes>"
      ]
     },
     "metadata": {
      "needs_background": "light"
     },
     "output_type": "display_data"
    }
   ],
   "source": [
    "TWST=append1.query('ticker==\"TWST\"')\n",
    "sb.barplot(data=TWST, x='weight_ratio', y='date', color=base_color, errwidth=0)\n",
    "sb.barplot(data=TWST, x='weight_ratio', y='date', color=base_color, ci='sd')"
   ]
  },
  {
   "cell_type": "code",
   "execution_count": null,
   "metadata": {},
   "outputs": [],
   "source": []
  },
  {
   "cell_type": "code",
   "execution_count": 163,
   "metadata": {},
   "outputs": [
    {
     "data": {
      "text/plain": [
       "<AxesSubplot:xlabel='weight_ratio', ylabel='date'>"
      ]
     },
     "execution_count": 163,
     "metadata": {},
     "output_type": "execute_result"
    },
    {
     "data": {
      "image/png": "[encoded data removed]",
      "text/plain": [
       "<Figure size 432x288 with 1 Axes>"
      ]
     },
     "metadata": {
      "needs_background": "light"
     },
     "output_type": "display_data"
    }
   ],
   "source": [
    "MTLS=append1.query('ticker==\"MTLS\"')\n",
    "\n",
    "sb.barplot(data=MTLS, x='weight_ratio', y='date', color=base_color, errwidth=0)\n",
    "sb.barplot(data=MTLS, x='weight_ratio', y='date', color=base_color, ci='sd')"
   ]
  },
  {
   "cell_type": "code",
   "execution_count": null,
   "metadata": {},
   "outputs": [],
   "source": []
  },
  {
   "cell_type": "code",
   "execution_count": 164,
   "metadata": {},
   "outputs": [
    {
     "data": {
      "text/plain": [
       "<AxesSubplot:xlabel='weight_ratio', ylabel='date'>"
      ]
     },
     "execution_count": 164,
     "metadata": {},
     "output_type": "execute_result"
    },
    {
     "data": {
      "image/png": "[encoded data removed]",
      "text/plain": [
       "<Figure size 432x288 with 1 Axes>"
      ]
     },
     "metadata": {
      "needs_background": "light"
     },
     "output_type": "display_data"
    }
   ],
   "source": [
    "WORK=append1.query('ticker==\"WORK\"')\n",
    "\n",
    "sb.barplot(data=WORK, x='weight_ratio', y='date', color=base_color, errwidth=0)\n",
    "sb.barplot(data=WORK, x='weight_ratio', y='date', color=base_color, ci='sd')"
   ]
  },
  {
   "cell_type": "code",
   "execution_count": null,
   "metadata": {},
   "outputs": [],
   "source": []
  },
  {
   "cell_type": "code",
   "execution_count": 165,
   "metadata": {},
   "outputs": [
    {
     "data": {
      "text/plain": [
       "(1180, 8)"
      ]
     },
     "execution_count": 165,
     "metadata": {},
     "output_type": "execute_result"
    }
   ],
   "source": [
    "append1.shape"
   ]
  },
  {
   "cell_type": "code",
   "execution_count": 166,
   "metadata": {},
   "outputs": [
    {
     "data": {
      "text/plain": [
       "date                48\n",
       "fund                72\n",
       "company             72\n",
       "ticker             105\n",
       "cusip               72\n",
       "shares              72\n",
       "market value($)     72\n",
       "weight_ratio        72\n",
       "dtype: int64"
      ]
     },
     "execution_count": 166,
     "metadata": {},
     "output_type": "execute_result"
    }
   ],
   "source": [
    "append1.isnull().sum()"
   ]
  },
  {
   "cell_type": "code",
   "execution_count": 167,
   "metadata": {},
   "outputs": [
    {
     "data": {
      "text/plain": [
       "71"
      ]
     },
     "execution_count": 167,
     "metadata": {},
     "output_type": "execute_result"
    }
   ],
   "source": [
    "## it shouldn't be duplicate data, \n",
    "## some data duplicate becasue 1. same stock be held under differ etf,\n",
    "## 2. data combined with different period, it will show more than one time\n",
    "sum(append1.duplicated())"
   ]
  },
  {
   "cell_type": "code",
   "execution_count": null,
   "metadata": {},
   "outputs": [],
   "source": []
  },
  {
   "cell_type": "code",
   "execution_count": 168,
   "metadata": {},
   "outputs": [
    {
     "data": {
      "text/plain": [
       "TSM      16\n",
       "SPLK     16\n",
       "TCEHY    16\n",
       "TDOC     13\n",
       "ICE      12\n",
       "Name: ticker, dtype: int64"
      ]
     },
     "execution_count": 168,
     "metadata": {},
     "output_type": "execute_result"
    }
   ],
   "source": [
    "append1.ticker.value_counts()[:5]"
   ]
  },
  {
   "cell_type": "code",
   "execution_count": null,
   "metadata": {},
   "outputs": [],
   "source": []
  },
  {
   "cell_type": "code",
   "execution_count": 169,
   "metadata": {},
   "outputs": [
    {
     "data": {
      "text/plain": [
       "TSLA    12\n",
       "NVTA     8\n",
       "SQ       7\n",
       "ROKU     5\n",
       "CRSP     5\n",
       "Name: ticker, dtype: int64"
      ]
     },
     "execution_count": 169,
     "metadata": {},
     "output_type": "execute_result"
    }
   ],
   "source": [
    "append1.loc[(append1['weight_ratio'] >= 6)].ticker.value_counts()[:5]"
   ]
  },
  {
   "cell_type": "code",
   "execution_count": null,
   "metadata": {},
   "outputs": [],
   "source": []
  },
  {
   "cell_type": "code",
   "execution_count": 170,
   "metadata": {},
   "outputs": [],
   "source": [
    "TopHolding=append1.loc[(append1['weight_ratio'] >= 8)]"
   ]
  },
  {
   "cell_type": "code",
   "execution_count": 171,
   "metadata": {},
   "outputs": [
    {
     "data": {
      "text/html": [
       "<div>\n",
       "<style scoped>\n",
       "    .dataframe tbody tr th:only-of-type {\n",
       "        vertical-align: middle;\n",
       "    }\n",
       "\n",
       "    .dataframe tbody tr th {\n",
       "        vertical-align: top;\n",
       "    }\n",
       "\n",
       "    .dataframe thead th {\n",
       "        text-align: right;\n",
       "    }\n",
       "</style>\n",
       "<table border=\"1\" class=\"dataframe\">\n",
       "  <thead>\n",
       "    <tr style=\"text-align: right;\">\n",
       "      <th></th>\n",
       "      <th>date</th>\n",
       "      <th>fund</th>\n",
       "      <th>company</th>\n",
       "      <th>ticker</th>\n",
       "      <th>cusip</th>\n",
       "      <th>shares</th>\n",
       "      <th>market value($)</th>\n",
       "      <th>weight_ratio</th>\n",
       "    </tr>\n",
       "  </thead>\n",
       "  <tbody>\n",
       "    <tr>\n",
       "      <th>101</th>\n",
       "      <td>12/9/2020</td>\n",
       "      <td>ARKK</td>\n",
       "      <td>TESLA INC</td>\n",
       "      <td>TSLA</td>\n",
       "      <td>88160R101</td>\n",
       "      <td>2503355.0</td>\n",
       "      <td>1.513228e+09</td>\n",
       "      <td>10.09</td>\n",
       "    </tr>\n",
       "    <tr>\n",
       "      <th>152</th>\n",
       "      <td>12/9/2020</td>\n",
       "      <td>ARKW</td>\n",
       "      <td>TESLA INC</td>\n",
       "      <td>TSLA</td>\n",
       "      <td>88160R101</td>\n",
       "      <td>754060.0</td>\n",
       "      <td>4.558142e+08</td>\n",
       "      <td>9.85</td>\n",
       "    </tr>\n",
       "    <tr>\n",
       "      <th>207</th>\n",
       "      <td>12/9/2020</td>\n",
       "      <td>ARKG</td>\n",
       "      <td>CRISPR THERAPEUTICS AG</td>\n",
       "      <td>CRSP</td>\n",
       "      <td>H17182108</td>\n",
       "      <td>3160869.0</td>\n",
       "      <td>4.634782e+08</td>\n",
       "      <td>8.76</td>\n",
       "    </tr>\n",
       "    <tr>\n",
       "      <th>258</th>\n",
       "      <td>12/9/2020</td>\n",
       "      <td>ARKQ</td>\n",
       "      <td>TESLA INC</td>\n",
       "      <td>TSLA</td>\n",
       "      <td>88160R101</td>\n",
       "      <td>244536.0</td>\n",
       "      <td>1.478171e+08</td>\n",
       "      <td>11.68</td>\n",
       "    </tr>\n",
       "    <tr>\n",
       "      <th>302</th>\n",
       "      <td>12/9/2020</td>\n",
       "      <td>ARKF</td>\n",
       "      <td>SQUARE INC - A</td>\n",
       "      <td>SQ</td>\n",
       "      <td>852234103</td>\n",
       "      <td>730686.0</td>\n",
       "      <td>1.512812e+08</td>\n",
       "      <td>10.65</td>\n",
       "    </tr>\n",
       "    <tr>\n",
       "      <th>99</th>\n",
       "      <td>11/16/2020</td>\n",
       "      <td>ARKK</td>\n",
       "      <td>TESLA INC</td>\n",
       "      <td>TSLA</td>\n",
       "      <td>88160R101</td>\n",
       "      <td>2487496.0</td>\n",
       "      <td>1.015122e+09</td>\n",
       "      <td>9.13</td>\n",
       "    </tr>\n",
       "    <tr>\n",
       "      <th>150</th>\n",
       "      <td>11/16/2020</td>\n",
       "      <td>ARKW</td>\n",
       "      <td>TESLA INC</td>\n",
       "      <td>TSLA</td>\n",
       "      <td>88160R101</td>\n",
       "      <td>722465.0</td>\n",
       "      <td>2.948307e+08</td>\n",
       "      <td>8.66</td>\n",
       "    </tr>\n",
       "    <tr>\n",
       "      <th>203</th>\n",
       "      <td>11/16/2020</td>\n",
       "      <td>ARKG</td>\n",
       "      <td>CRISPR THERAPEUTICS AG</td>\n",
       "      <td>CRSP</td>\n",
       "      <td>H17182108</td>\n",
       "      <td>2780388.0</td>\n",
       "      <td>2.968342e+08</td>\n",
       "      <td>8.76</td>\n",
       "    </tr>\n",
       "    <tr>\n",
       "      <th>204</th>\n",
       "      <td>11/16/2020</td>\n",
       "      <td>ARKG</td>\n",
       "      <td>INVITAE CORP</td>\n",
       "      <td>NVTA</td>\n",
       "      <td>46185L103</td>\n",
       "      <td>6276325.0</td>\n",
       "      <td>2.912215e+08</td>\n",
       "      <td>8.59</td>\n",
       "    </tr>\n",
       "    <tr>\n",
       "      <th>252</th>\n",
       "      <td>11/16/2020</td>\n",
       "      <td>ARKQ</td>\n",
       "      <td>TESLA INC</td>\n",
       "      <td>TSLA</td>\n",
       "      <td>88160R101</td>\n",
       "      <td>219483.0</td>\n",
       "      <td>8.956882e+07</td>\n",
       "      <td>9.87</td>\n",
       "    </tr>\n",
       "    <tr>\n",
       "      <th>296</th>\n",
       "      <td>11/16/2020</td>\n",
       "      <td>ARKF</td>\n",
       "      <td>SQUARE INC - A</td>\n",
       "      <td>SQ</td>\n",
       "      <td>852234103</td>\n",
       "      <td>614084.0</td>\n",
       "      <td>1.100193e+08</td>\n",
       "      <td>10.16</td>\n",
       "    </tr>\n",
       "    <tr>\n",
       "      <th>0</th>\n",
       "      <td>10/9/2020</td>\n",
       "      <td>ARKK</td>\n",
       "      <td>TESLA INC</td>\n",
       "      <td>TSLA</td>\n",
       "      <td>88160R101</td>\n",
       "      <td>2335461.0</td>\n",
       "      <td>1.013590e+09</td>\n",
       "      <td>10.03</td>\n",
       "    </tr>\n",
       "    <tr>\n",
       "      <th>1</th>\n",
       "      <td>10/9/2020</td>\n",
       "      <td>ARKK</td>\n",
       "      <td>INVITAE CORP</td>\n",
       "      <td>NVTA</td>\n",
       "      <td>46185L103</td>\n",
       "      <td>17697147.0</td>\n",
       "      <td>9.434349e+08</td>\n",
       "      <td>9.34</td>\n",
       "    </tr>\n",
       "    <tr>\n",
       "      <th>50</th>\n",
       "      <td>10/9/2020</td>\n",
       "      <td>ARKW</td>\n",
       "      <td>TESLA INC</td>\n",
       "      <td>TSLA</td>\n",
       "      <td>88160R101</td>\n",
       "      <td>666116.0</td>\n",
       "      <td>2.890943e+08</td>\n",
       "      <td>10.28</td>\n",
       "    </tr>\n",
       "    <tr>\n",
       "      <th>102</th>\n",
       "      <td>10/9/2020</td>\n",
       "      <td>ARKG</td>\n",
       "      <td>INVITAE CORP</td>\n",
       "      <td>NVTA</td>\n",
       "      <td>46185L103</td>\n",
       "      <td>6298765.0</td>\n",
       "      <td>3.357872e+08</td>\n",
       "      <td>11.73</td>\n",
       "    </tr>\n",
       "    <tr>\n",
       "      <th>103</th>\n",
       "      <td>10/9/2020</td>\n",
       "      <td>ARKG</td>\n",
       "      <td>CRISPR THERAPEUTICS AG</td>\n",
       "      <td>CRSP</td>\n",
       "      <td>H17182108</td>\n",
       "      <td>2380882.0</td>\n",
       "      <td>2.339455e+08</td>\n",
       "      <td>8.17</td>\n",
       "    </tr>\n",
       "    <tr>\n",
       "      <th>149</th>\n",
       "      <td>10/9/2020</td>\n",
       "      <td>ARKQ</td>\n",
       "      <td>TESLA INC</td>\n",
       "      <td>TSLA</td>\n",
       "      <td>88160R101</td>\n",
       "      <td>168462.0</td>\n",
       "      <td>7.311251e+07</td>\n",
       "      <td>10.14</td>\n",
       "    </tr>\n",
       "    <tr>\n",
       "      <th>191</th>\n",
       "      <td>10/9/2020</td>\n",
       "      <td>ARKF</td>\n",
       "      <td>SQUARE INC - A</td>\n",
       "      <td>SQ</td>\n",
       "      <td>852234103</td>\n",
       "      <td>513316.0</td>\n",
       "      <td>9.613382e+07</td>\n",
       "      <td>12.05</td>\n",
       "    </tr>\n",
       "    <tr>\n",
       "      <th>0</th>\n",
       "      <td>9/18/2020</td>\n",
       "      <td>ARKK</td>\n",
       "      <td>TESLA INC</td>\n",
       "      <td>TSLA</td>\n",
       "      <td>88160R101</td>\n",
       "      <td>2033445.0</td>\n",
       "      <td>8.990877e+08</td>\n",
       "      <td>10.65</td>\n",
       "    </tr>\n",
       "    <tr>\n",
       "      <th>1</th>\n",
       "      <td>9/18/2020</td>\n",
       "      <td>ARKK</td>\n",
       "      <td>INVITAE CORP</td>\n",
       "      <td>NVTA</td>\n",
       "      <td>46185L103</td>\n",
       "      <td>18400984.0</td>\n",
       "      <td>7.360394e+08</td>\n",
       "      <td>8.71</td>\n",
       "    </tr>\n",
       "    <tr>\n",
       "      <th>50</th>\n",
       "      <td>9/18/2020</td>\n",
       "      <td>ARKW</td>\n",
       "      <td>TESLA INC</td>\n",
       "      <td>TSLA</td>\n",
       "      <td>88160R101</td>\n",
       "      <td>589229.0</td>\n",
       "      <td>2.605276e+08</td>\n",
       "      <td>11.18</td>\n",
       "    </tr>\n",
       "    <tr>\n",
       "      <th>101</th>\n",
       "      <td>9/18/2020</td>\n",
       "      <td>ARKG</td>\n",
       "      <td>INVITAE CORP</td>\n",
       "      <td>NVTA</td>\n",
       "      <td>46185L103</td>\n",
       "      <td>6298765.0</td>\n",
       "      <td>2.519506e+08</td>\n",
       "      <td>11.44</td>\n",
       "    </tr>\n",
       "    <tr>\n",
       "      <th>102</th>\n",
       "      <td>9/18/2020</td>\n",
       "      <td>ARKG</td>\n",
       "      <td>CRISPR THERAPEUTICS AG</td>\n",
       "      <td>CRSP</td>\n",
       "      <td>H17182108</td>\n",
       "      <td>2135762.0</td>\n",
       "      <td>1.834620e+08</td>\n",
       "      <td>8.33</td>\n",
       "    </tr>\n",
       "    <tr>\n",
       "      <th>147</th>\n",
       "      <td>9/18/2020</td>\n",
       "      <td>ARKQ</td>\n",
       "      <td>TESLA INC</td>\n",
       "      <td>TSLA</td>\n",
       "      <td>88160R101</td>\n",
       "      <td>159965.0</td>\n",
       "      <td>7.072852e+07</td>\n",
       "      <td>11.10</td>\n",
       "    </tr>\n",
       "    <tr>\n",
       "      <th>189</th>\n",
       "      <td>9/18/2020</td>\n",
       "      <td>ARKF</td>\n",
       "      <td>SQUARE INC - A</td>\n",
       "      <td>SQ</td>\n",
       "      <td>852234103</td>\n",
       "      <td>449452.0</td>\n",
       "      <td>6.517503e+07</td>\n",
       "      <td>11.46</td>\n",
       "    </tr>\n",
       "  </tbody>\n",
       "</table>\n",
       "</div>"
      ],
      "text/plain": [
       "           date  fund                 company ticker      cusip      shares  \\\n",
       "101   12/9/2020  ARKK               TESLA INC   TSLA  88160R101   2503355.0   \n",
       "152   12/9/2020  ARKW               TESLA INC   TSLA  88160R101    754060.0   \n",
       "207   12/9/2020  ARKG  CRISPR THERAPEUTICS AG   CRSP  H17182108   3160869.0   \n",
       "258   12/9/2020  ARKQ               TESLA INC   TSLA  88160R101    244536.0   \n",
       "302   12/9/2020  ARKF          SQUARE INC - A     SQ  852234103    730686.0   \n",
       "99   11/16/2020  ARKK               TESLA INC   TSLA  88160R101   2487496.0   \n",
       "150  11/16/2020  ARKW               TESLA INC   TSLA  88160R101    722465.0   \n",
       "203  11/16/2020  ARKG  CRISPR THERAPEUTICS AG   CRSP  H17182108   2780388.0   \n",
       "204  11/16/2020  ARKG            INVITAE CORP   NVTA  46185L103   6276325.0   \n",
       "252  11/16/2020  ARKQ               TESLA INC   TSLA  88160R101    219483.0   \n",
       "296  11/16/2020  ARKF          SQUARE INC - A     SQ  852234103    614084.0   \n",
       "0     10/9/2020  ARKK               TESLA INC   TSLA  88160R101   2335461.0   \n",
       "1     10/9/2020  ARKK            INVITAE CORP   NVTA  46185L103  17697147.0   \n",
       "50    10/9/2020  ARKW               TESLA INC   TSLA  88160R101    666116.0   \n",
       "102   10/9/2020  ARKG            INVITAE CORP   NVTA  46185L103   6298765.0   \n",
       "103   10/9/2020  ARKG  CRISPR THERAPEUTICS AG   CRSP  H17182108   2380882.0   \n",
       "149   10/9/2020  ARKQ               TESLA INC   TSLA  88160R101    168462.0   \n",
       "191   10/9/2020  ARKF          SQUARE INC - A     SQ  852234103    513316.0   \n",
       "0     9/18/2020  ARKK               TESLA INC   TSLA  88160R101   2033445.0   \n",
       "1     9/18/2020  ARKK            INVITAE CORP   NVTA  46185L103  18400984.0   \n",
       "50    9/18/2020  ARKW               TESLA INC   TSLA  88160R101    589229.0   \n",
       "101   9/18/2020  ARKG            INVITAE CORP   NVTA  46185L103   6298765.0   \n",
       "102   9/18/2020  ARKG  CRISPR THERAPEUTICS AG   CRSP  H17182108   2135762.0   \n",
       "147   9/18/2020  ARKQ               TESLA INC   TSLA  88160R101    159965.0   \n",
       "189   9/18/2020  ARKF          SQUARE INC - A     SQ  852234103    449452.0   \n",
       "\n",
       "     market value($)  weight_ratio  \n",
       "101     1.513228e+09         10.09  \n",
       "152     4.558142e+08          9.85  \n",
       "207     4.634782e+08          8.76  \n",
       "258     1.478171e+08         11.68  \n",
       "302     1.512812e+08         10.65  \n",
       "99      1.015122e+09          9.13  \n",
       "150     2.948307e+08          8.66  \n",
       "203     2.968342e+08          8.76  \n",
       "204     2.912215e+08          8.59  \n",
       "252     8.956882e+07          9.87  \n",
       "296     1.100193e+08         10.16  \n",
       "0       1.013590e+09         10.03  \n",
       "1       9.434349e+08          9.34  \n",
       "50      2.890943e+08         10.28  \n",
       "102     3.357872e+08         11.73  \n",
       "103     2.339455e+08          8.17  \n",
       "149     7.311251e+07         10.14  \n",
       "191     9.613382e+07         12.05  \n",
       "0       8.990877e+08         10.65  \n",
       "1       7.360394e+08          8.71  \n",
       "50      2.605276e+08         11.18  \n",
       "101     2.519506e+08         11.44  \n",
       "102     1.834620e+08          8.33  \n",
       "147     7.072852e+07         11.10  \n",
       "189     6.517503e+07         11.46  "
      ]
     },
     "execution_count": 171,
     "metadata": {},
     "output_type": "execute_result"
    }
   ],
   "source": [
    "TopHolding"
   ]
  },
  {
   "cell_type": "code",
   "execution_count": null,
   "metadata": {},
   "outputs": [],
   "source": []
  },
  {
   "cell_type": "code",
   "execution_count": 172,
   "metadata": {},
   "outputs": [
    {
     "data": {
      "text/html": [
       "<div>\n",
       "<style scoped>\n",
       "    .dataframe tbody tr th:only-of-type {\n",
       "        vertical-align: middle;\n",
       "    }\n",
       "\n",
       "    .dataframe tbody tr th {\n",
       "        vertical-align: top;\n",
       "    }\n",
       "\n",
       "    .dataframe thead th {\n",
       "        text-align: right;\n",
       "    }\n",
       "</style>\n",
       "<table border=\"1\" class=\"dataframe\">\n",
       "  <thead>\n",
       "    <tr style=\"text-align: right;\">\n",
       "      <th></th>\n",
       "      <th>date</th>\n",
       "      <th>fund</th>\n",
       "      <th>company</th>\n",
       "      <th>ticker</th>\n",
       "      <th>cusip</th>\n",
       "      <th>shares</th>\n",
       "      <th>market value($)</th>\n",
       "      <th>weight_ratio</th>\n",
       "    </tr>\n",
       "  </thead>\n",
       "  <tbody>\n",
       "    <tr>\n",
       "      <th>0</th>\n",
       "      <td>12/9/2020</td>\n",
       "      <td>PRNT</td>\n",
       "      <td>SLM SOLUTIONS GROUP AG</td>\n",
       "      <td>AM3D</td>\n",
       "      <td>BMHTHK2</td>\n",
       "      <td>342895.0</td>\n",
       "      <td>7083409.24</td>\n",
       "      <td>6.89</td>\n",
       "    </tr>\n",
       "  </tbody>\n",
       "</table>\n",
       "</div>"
      ],
      "text/plain": [
       "        date  fund                 company ticker    cusip    shares  \\\n",
       "0  12/9/2020  PRNT  SLM SOLUTIONS GROUP AG   AM3D  BMHTHK2  342895.0   \n",
       "\n",
       "   market value($)  weight_ratio  \n",
       "0       7083409.24          6.89  "
      ]
     },
     "execution_count": 172,
     "metadata": {},
     "output_type": "execute_result"
    }
   ],
   "source": [
    "df11.head(1)"
   ]
  },
  {
   "cell_type": "code",
   "execution_count": null,
   "metadata": {},
   "outputs": [],
   "source": []
  },
  {
   "cell_type": "code",
   "execution_count": 220,
   "metadata": {},
   "outputs": [
    {
     "name": "stderr",
     "output_type": "stream",
     "text": [
      "/opt/anaconda3/lib/python3.7/site-packages/seaborn/axisgrid.py:316: UserWarning: The `size` parameter has been renamed to `height`; please update your code.\n",
      "  warnings.warn(msg, UserWarning)\n"
     ]
    },
    {
     "data": {
      "text/plain": [
       "<seaborn.axisgrid.FacetGrid at 0x7fe6f0775290>"
      ]
     },
     "execution_count": 220,
     "metadata": {},
     "output_type": "execute_result"
    },
    {
     "data": {
      "image/png": "[encoded data removed]",
      "text/plain": [
       "<Figure size 494.5x432 with 1 Axes>"
      ]
     },
     "metadata": {
      "needs_background": "light"
     },
     "output_type": "display_data"
    }
   ],
   "source": [
    "g = sb.FacetGrid(data = TopHolding, hue = 'ticker', size = 6,aspect=1,\n",
    "                 palette = 'hsv')\n",
    "g.map(plt.scatter, 'date', 'weight_ratio')\n",
    "g.add_legend()"
   ]
  },
  {
   "cell_type": "code",
   "execution_count": 187,
   "metadata": {},
   "outputs": [
    {
     "data": {
      "text/html": [
       "<div>\n",
       "<style scoped>\n",
       "    .dataframe tbody tr th:only-of-type {\n",
       "        vertical-align: middle;\n",
       "    }\n",
       "\n",
       "    .dataframe tbody tr th {\n",
       "        vertical-align: top;\n",
       "    }\n",
       "\n",
       "    .dataframe thead th {\n",
       "        text-align: right;\n",
       "    }\n",
       "</style>\n",
       "<table border=\"1\" class=\"dataframe\">\n",
       "  <thead>\n",
       "    <tr style=\"text-align: right;\">\n",
       "      <th></th>\n",
       "      <th>date</th>\n",
       "      <th>fund</th>\n",
       "      <th>company</th>\n",
       "      <th>ticker</th>\n",
       "      <th>cusip</th>\n",
       "      <th>shares</th>\n",
       "      <th>market value($)</th>\n",
       "      <th>weight_ratio</th>\n",
       "    </tr>\n",
       "  </thead>\n",
       "  <tbody>\n",
       "    <tr>\n",
       "      <th>0</th>\n",
       "      <td>12/9/2020</td>\n",
       "      <td>PRNT</td>\n",
       "      <td>SLM SOLUTIONS GROUP AG</td>\n",
       "      <td>AM3D</td>\n",
       "      <td>BMHTHK2</td>\n",
       "      <td>342895.0</td>\n",
       "      <td>7083409.24</td>\n",
       "      <td>6.89</td>\n",
       "    </tr>\n",
       "    <tr>\n",
       "      <th>1</th>\n",
       "      <td>12/9/2020</td>\n",
       "      <td>PRNT</td>\n",
       "      <td>3D SYSTEMS CORP</td>\n",
       "      <td>DDD</td>\n",
       "      <td>88554D205</td>\n",
       "      <td>664111.0</td>\n",
       "      <td>6880189.96</td>\n",
       "      <td>6.69</td>\n",
       "    </tr>\n",
       "  </tbody>\n",
       "</table>\n",
       "</div>"
      ],
      "text/plain": [
       "        date  fund                 company ticker      cusip    shares  \\\n",
       "0  12/9/2020  PRNT  SLM SOLUTIONS GROUP AG   AM3D    BMHTHK2  342895.0   \n",
       "1  12/9/2020  PRNT         3D SYSTEMS CORP    DDD  88554D205  664111.0   \n",
       "\n",
       "   market value($)  weight_ratio  \n",
       "0       7083409.24          6.89  \n",
       "1       6880189.96          6.69  "
      ]
     },
     "execution_count": 187,
     "metadata": {},
     "output_type": "execute_result"
    }
   ],
   "source": [
    "append1.head(2)"
   ]
  },
  {
   "cell_type": "code",
   "execution_count": 202,
   "metadata": {},
   "outputs": [
    {
     "data": {
      "text/plain": [
       "<seaborn.axisgrid.FacetGrid at 0x7fe6edfe5a90>"
      ]
     },
     "execution_count": 202,
     "metadata": {},
     "output_type": "execute_result"
    },
    {
     "data": {
      "image/png": "[encoded data removed]",
      "text/plain": [
       "<Figure size 494x432 with 1 Axes>"
      ]
     },
     "metadata": {
      "needs_background": "light"
     },
     "output_type": "display_data"
    }
   ],
   "source": [
    "g = sb.FacetGrid(data = append1, hue = 'ticker',hue_order=['TSLA','SQ','CRSP','DDD'],size = 6,aspect=1)\n",
    "g.map(plt.scatter, 'date', 'weight_ratio');\n",
    "g.add_legend()"
   ]
  },
  {
   "cell_type": "code",
   "execution_count": null,
   "metadata": {},
   "outputs": [],
   "source": []
  },
  {
   "cell_type": "code",
   "execution_count": 231,
   "metadata": {},
   "outputs": [],
   "source": [
    "import numpy as np\n",
    "import pandas as pd\n",
    "import matplotlib.pyplot as plt\n",
    "import seaborn as sb\n",
    "import seaborn as sns\n",
    "sns.set_theme(style=\"darkgrid\")\n",
    "\n",
    "%matplotlib inline"
   ]
  },
  {
   "cell_type": "code",
   "execution_count": 237,
   "metadata": {},
   "outputs": [
    {
     "data": {
      "text/plain": [
       "<AxesSubplot:xlabel='date', ylabel='weight_ratio'>"
      ]
     },
     "execution_count": 237,
     "metadata": {},
     "output_type": "execute_result"
    },
    {
     "data": {
      "image/png": "[encoded data removed]",
      "text/plain": [
       "<Figure size 432x288 with 1 Axes>"
      ]
     },
     "metadata": {
      "needs_background": "light"
     },
     "output_type": "display_data"
    }
   ],
   "source": [
    "markers = {\"TSLA\": \"s\", \"SQ\": \"X\",\"CRSP\":\"^\",\"NVTA\":\"o\"}\n",
    "sns.scatterplot(data=TopHolding, x=\"date\", y=\"weight_ratio\", hue=\"ticker\",style=\"ticker\", markers=markers)"
   ]
  },
  {
   "cell_type": "code",
   "execution_count": null,
   "metadata": {},
   "outputs": [],
   "source": []
  },
  {
   "cell_type": "code",
   "execution_count": 248,
   "metadata": {},
   "outputs": [
    {
     "data": {
      "text/plain": [
       "<AxesSubplot:xlabel='date', ylabel='market value($)'>"
      ]
     },
     "execution_count": 248,
     "metadata": {},
     "output_type": "execute_result"
    },
    {
     "data": {
      "image/png": "[encoded data removed]",
      "text/plain": [
       "<Figure size 432x288 with 1 Axes>"
      ]
     },
     "metadata": {
      "needs_background": "light"
     },
     "output_type": "display_data"
    }
   ],
   "source": [
    "markers = {\"TSLA\": \"s\", \"SQ\": \"X\",\"CRSP\":\"^\",\"NVTA\":\"o\"}\n",
    "sns.scatterplot(data=TopHolding, x=\"date\", y=\"market value($)\", hue=\"ticker\",style=\"ticker\", markers=markers)"
   ]
  },
  {
   "cell_type": "code",
   "execution_count": null,
   "metadata": {},
   "outputs": [],
   "source": []
  },
  {
   "cell_type": "code",
   "execution_count": 242,
   "metadata": {},
   "outputs": [
    {
     "data": {
      "text/plain": [
       "<AxesSubplot:xlabel='market value($)', ylabel='weight_ratio'>"
      ]
     },
     "execution_count": 242,
     "metadata": {},
     "output_type": "execute_result"
    },
    {
     "data": {
      "image/png": "[encoded data removed]",
      "text/plain": [
       "<Figure size 432x288 with 1 Axes>"
      ]
     },
     "metadata": {
      "needs_background": "light"
     },
     "output_type": "display_data"
    }
   ],
   "source": [
    "markers = {\"TSLA\": \"s\", \"SQ\": \"X\",\"CRSP\":\"^\",\"NVTA\":\"o\"}\n",
    "sns.scatterplot(data=TopHolding, x=\"market value($)\", y=\"weight_ratio\", hue=\"ticker\",style=\"ticker\", markers=markers)"
   ]
  },
  {
   "cell_type": "code",
   "execution_count": null,
   "metadata": {},
   "outputs": [],
   "source": []
  },
  {
   "cell_type": "code",
   "execution_count": null,
   "metadata": {},
   "outputs": [],
   "source": []
  },
  {
   "cell_type": "code",
   "execution_count": 224,
   "metadata": {},
   "outputs": [
    {
     "data": {
      "text/plain": [
       "<seaborn.axisgrid.FacetGrid at 0x7fe6f0d05a50>"
      ]
     },
     "execution_count": 224,
     "metadata": {},
     "output_type": "execute_result"
    },
    {
     "data": {
      "image/png": "[encoded data removed]",
      "text/plain": [
       "<Figure size 494x432 with 1 Axes>"
      ]
     },
     "metadata": {
      "needs_background": "light"
     },
     "output_type": "display_data"
    }
   ],
   "source": [
    "\n",
    "g = sb.FacetGrid(data = append1, hue = 'ticker',hue_order=['TSLA','SQ','CRSP','DDD'],size = 6,aspect=1)\n",
    "                #,palette='gist_rainbow')\n",
    "g.map(sb.regplot, 'market value($)', 'weight_ratio',x_jitter=0.1, fit_reg=False);\n",
    "g.add_legend()"
   ]
  },
  {
   "cell_type": "code",
   "execution_count": null,
   "metadata": {},
   "outputs": [],
   "source": []
  },
  {
   "cell_type": "code",
   "execution_count": null,
   "metadata": {},
   "outputs": [],
   "source": []
  },
  {
   "cell_type": "code",
   "execution_count": 174,
   "metadata": {},
   "outputs": [
    {
     "name": "stderr",
     "output_type": "stream",
     "text": [
      "/opt/anaconda3/lib/python3.7/site-packages/seaborn/axisgrid.py:316: UserWarning: The `size` parameter has been renamed to `height`; please update your code.\n",
      "  warnings.warn(msg, UserWarning)\n"
     ]
    },
    {
     "data": {
      "text/plain": [
       "<seaborn.axisgrid.FacetGrid at 0x7fe70a51c5d0>"
      ]
     },
     "execution_count": 174,
     "metadata": {},
     "output_type": "execute_result"
    },
    {
     "data": {
      "image/png": "[encoded data removed]",
      "text/plain": [
       "<Figure size 360x360 with 1 Axes>"
      ]
     },
     "metadata": {
      "needs_background": "light"
     },
     "output_type": "display_data"
    }
   ],
   "source": [
    "g = sb.FacetGrid(data = SPCE, hue = 'ticker', size = 5,\n",
    "                 palette = 'colorblind')\n",
    "g.map(plt.scatter, 'date', 'weight_ratio')\n",
    "# g.add_legend()"
   ]
  },
  {
   "cell_type": "code",
   "execution_count": null,
   "metadata": {},
   "outputs": [],
   "source": []
  },
  {
   "cell_type": "code",
   "execution_count": null,
   "metadata": {},
   "outputs": [],
   "source": []
  },
  {
   "cell_type": "code",
   "execution_count": 209,
   "metadata": {},
   "outputs": [
    {
     "name": "stderr",
     "output_type": "stream",
     "text": [
      "/opt/anaconda3/lib/python3.7/site-packages/seaborn/axisgrid.py:316: UserWarning: The `size` parameter has been renamed to `height`; please update your code.\n",
      "  warnings.warn(msg, UserWarning)\n"
     ]
    },
    {
     "data": {
      "text/plain": [
       "<seaborn.axisgrid.FacetGrid at 0x7fe6ef48b310>"
      ]
     },
     "execution_count": 209,
     "metadata": {},
     "output_type": "execute_result"
    },
    {
     "data": {
      "image/png": "[encoded data removed]",
      "text/plain": [
       "<Figure size 360x360 with 1 Axes>"
      ]
     },
     "metadata": {
      "needs_background": "light"
     },
     "output_type": "display_data"
    }
   ],
   "source": [
    "g = sb.FacetGrid(data = TSLA, hue = 'ticker', size = 5,\n",
    "                 palette = 'colorblind')\n",
    "g.map(plt.scatter, 'date', 'weight_ratio')"
   ]
  },
  {
   "cell_type": "code",
   "execution_count": 176,
   "metadata": {},
   "outputs": [
    {
     "name": "stderr",
     "output_type": "stream",
     "text": [
      "/opt/anaconda3/lib/python3.7/site-packages/seaborn/axisgrid.py:316: UserWarning: The `size` parameter has been renamed to `height`; please update your code.\n",
      "  warnings.warn(msg, UserWarning)\n"
     ]
    },
    {
     "data": {
      "text/plain": [
       "<seaborn.axisgrid.FacetGrid at 0x7fe70a52ac10>"
      ]
     },
     "execution_count": 176,
     "metadata": {},
     "output_type": "execute_result"
    },
    {
     "data": {
      "image/png": "[encoded data removed]",
      "text/plain": [
       "<Figure size 360x360 with 1 Axes>"
      ]
     },
     "metadata": {
      "needs_background": "light"
     },
     "output_type": "display_data"
    }
   ],
   "source": [
    "g = sb.FacetGrid(data = PACB, hue = 'ticker', size = 5,\n",
    "                 palette = 'colorblind')\n",
    "g.map(plt.scatter, 'date', 'weight_ratio')"
   ]
  },
  {
   "cell_type": "code",
   "execution_count": null,
   "metadata": {},
   "outputs": [],
   "source": []
  },
  {
   "cell_type": "code",
   "execution_count": null,
   "metadata": {},
   "outputs": [],
   "source": []
  }
 ],
 "metadata": {
  "kernelspec": {
   "display_name": "Python 3",
   "language": "python",
   "name": "python3"
  },
  "language_info": {
   "codemirror_mode": {
    "name": "ipython",
    "version": 3
   },
   "file_extension": ".py",
   "mimetype": "text/x-python",
   "name": "python",
   "nbconvert_exporter": "python",
   "pygments_lexer": "ipython3",
   "version": "3.7.9"
  }
 },
 "nbformat": 4,
 "nbformat_minor": 4
}
